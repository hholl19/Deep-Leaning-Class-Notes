{
  "nbformat": 4,
  "nbformat_minor": 0,
  "metadata": {
    "colab": {
      "name": "shallow_net_in_keras.ipynb",
      "provenance": []
    },
    "kernelspec": {
      "display_name": "Python 3",
      "language": "python",
      "name": "python3"
    },
    "language_info": {
      "codemirror_mode": {
        "name": "ipython",
        "version": 3
      },
      "file_extension": ".py",
      "mimetype": "text/x-python",
      "name": "python",
      "nbconvert_exporter": "python",
      "pygments_lexer": "ipython3",
      "version": "3.8.3"
    }
  },
  "cells": [
    {
      "cell_type": "markdown",
      "metadata": {
        "id": "C5xv_8pd5iQ2"
      },
      "source": [
        "# Shallow Neural Network in Keras\n",
        "## Beginning Notebook"
      ]
    },
    {
      "cell_type": "markdown",
      "metadata": {
        "id": "NSzf240H5iQ3"
      },
      "source": [
        "Build a shallow neural network to classify MNIST digits"
      ]
    },
    {
      "cell_type": "markdown",
      "metadata": {
        "id": "bOiqzR055iQ4"
      },
      "source": [
        "[![Open In Colab](https://colab.research.google.com/assets/colab-badge.svg)](https://colab.research.google.com/github/the-deep-learners/deep-learning-illustrated/blob/master/notebooks/shallow_net_in_keras.ipynb)"
      ]
    },
    {
      "cell_type": "markdown",
      "metadata": {
        "id": "nFsqg49w5iQ4"
      },
      "source": [
        "#### Load dependencies"
      ]
    },
    {
      "cell_type": "code",
      "metadata": {
        "id": "_x8y_QJD5iQ4"
      },
      "source": [
        "import keras\n",
        "from keras.datasets import mnist\n",
        "from keras.models import Sequential\n",
        "from keras.layers import Dense\n",
        "from keras.optimizers import SGD\n",
        "from matplotlib import pyplot as plt"
      ],
      "execution_count": 1,
      "outputs": []
    },
    {
      "cell_type": "markdown",
      "metadata": {
        "id": "mjCRodmc5iQ5"
      },
      "source": [
        "#### Load data"
      ]
    },
    {
      "cell_type": "code",
      "metadata": {
        "id": "0oYfHwzB5iQ5",
        "scrolled": true,
        "outputId": "61e8ea71-2571-4f71-eb23-892c0e151e9a",
        "colab": {
          "base_uri": "https://localhost:8080/"
        }
      },
      "source": [
        "(X_train, y_train), (X_valid, y_valid) = mnist.load_data()"
      ],
      "execution_count": 2,
      "outputs": [
        {
          "output_type": "stream",
          "text": [
            "Downloading data from https://storage.googleapis.com/tensorflow/tf-keras-datasets/mnist.npz\n",
            "11493376/11490434 [==============================] - 0s 0us/step\n"
          ],
          "name": "stdout"
        }
      ]
    },
    {
      "cell_type": "code",
      "metadata": {
        "id": "b4IOUZsM5iQ5",
        "outputId": "32ae79ff-6226-47ed-b0bb-266d49f2a3d6",
        "colab": {
          "base_uri": "https://localhost:8080/"
        }
      },
      "source": [
        "X_train.shape"
      ],
      "execution_count": 3,
      "outputs": [
        {
          "output_type": "execute_result",
          "data": {
            "text/plain": [
              "(60000, 28, 28)"
            ]
          },
          "metadata": {
            "tags": []
          },
          "execution_count": 3
        }
      ]
    },
    {
      "cell_type": "code",
      "metadata": {
        "id": "8j2orwYP5iQ6",
        "outputId": "cfdbcbb7-f303-4026-9386-4eb2cc1fb494",
        "colab": {
          "base_uri": "https://localhost:8080/"
        }
      },
      "source": [
        "y_train.shape"
      ],
      "execution_count": 4,
      "outputs": [
        {
          "output_type": "execute_result",
          "data": {
            "text/plain": [
              "(60000,)"
            ]
          },
          "metadata": {
            "tags": []
          },
          "execution_count": 4
        }
      ]
    },
    {
      "cell_type": "code",
      "metadata": {
        "id": "_fAFWx_B5iQ6",
        "outputId": "15c51450-b2ef-4a57-d5ad-d953a7d7a1ed",
        "colab": {
          "base_uri": "https://localhost:8080/"
        }
      },
      "source": [
        "# the first 12 digits in the training labels\n",
        "y_train[0:12]"
      ],
      "execution_count": 6,
      "outputs": [
        {
          "output_type": "execute_result",
          "data": {
            "text/plain": [
              "array([5, 0, 4, 1, 9, 2, 1, 3, 1, 4, 3, 5], dtype=uint8)"
            ]
          },
          "metadata": {
            "tags": []
          },
          "execution_count": 6
        }
      ]
    },
    {
      "cell_type": "code",
      "metadata": {
        "id": "UsTTYEGL5iQ6",
        "outputId": "ac3a0695-197b-4d25-a6a4-7cc38759ad60",
        "colab": {
          "base_uri": "https://localhost:8080/",
          "height": 327
        }
      },
      "source": [
        "plt.figure(figsize=(5,5))\n",
        "for k in range(12):\n",
        "    plt.subplot(3, 4, k+1)\n",
        "    plt.imshow(X_train[k], cmap='Greys')\n",
        "    plt.axis('off')\n",
        "plt.tight_layout()\n",
        "plt.show()"
      ],
      "execution_count": 7,
      "outputs": [
        {
          "output_type": "display_data",
          "data": {
            "image/png": "[encoded data removed]",
            "text/plain": [
              "<Figure size 360x360 with 12 Axes>"
            ]
          },
          "metadata": {
            "tags": [],
            "needs_background": "light"
          }
        }
      ]
    },
    {
      "cell_type": "code",
      "metadata": {
        "id": "vh5reOM95iQ6",
        "outputId": "f4ed9ddf-3ff1-48e5-c40d-0f1f9f5a1766",
        "colab": {
          "base_uri": "https://localhost:8080/"
        }
      },
      "source": [
        "X_valid.shape"
      ],
      "execution_count": 8,
      "outputs": [
        {
          "output_type": "execute_result",
          "data": {
            "text/plain": [
              "(10000, 28, 28)"
            ]
          },
          "metadata": {
            "tags": []
          },
          "execution_count": 8
        }
      ]
    },
    {
      "cell_type": "code",
      "metadata": {
        "id": "rYHcLUAc5iQ7",
        "outputId": "147a6324-5352-47a8-fddf-9d6b256e585e",
        "colab": {
          "base_uri": "https://localhost:8080/"
        }
      },
      "source": [
        "y_valid.shape"
      ],
      "execution_count": 9,
      "outputs": [
        {
          "output_type": "execute_result",
          "data": {
            "text/plain": [
              "(10000,)"
            ]
          },
          "metadata": {
            "tags": []
          },
          "execution_count": 9
        }
      ]
    },
    {
      "cell_type": "code",
      "metadata": {
        "id": "KFqK9JWz5iQ7",
        "outputId": "76d5d683-34ed-402d-fddb-901814abf0df",
        "colab": {
          "base_uri": "https://localhost:8080/",
          "height": 282
        }
      },
      "source": [
        "plt.imshow(X_valid[0], cmap='Greys')"
      ],
      "execution_count": 10,
      "outputs": [
        {
          "output_type": "execute_result",
          "data": {
            "text/plain": [
              "<matplotlib.image.AxesImage at 0x7fc8b4db4090>"
            ]
          },
          "metadata": {
            "tags": []
          },
          "execution_count": 10
        },
        {
          "output_type": "display_data",
          "data": {
            "image/png": "[encoded data removed]",
            "text/plain": [
              "<Figure size 432x288 with 1 Axes>"
            ]
          },
          "metadata": {
            "tags": [],
            "needs_background": "light"
          }
        }
      ]
    },
    {
      "cell_type": "code",
      "metadata": {
        "id": "02J65rae5iQ7"
      },
      "source": [
        "X_valid[0]"
      ],
      "execution_count": null,
      "outputs": []
    },
    {
      "cell_type": "code",
      "metadata": {
        "id": "YFbN-a_C5iQ7",
        "outputId": "fb46bb9d-232e-404f-b835-0831d103abc3",
        "colab": {
          "base_uri": "https://localhost:8080/"
        }
      },
      "source": [
        "y_valid[0]"
      ],
      "execution_count": 12,
      "outputs": [
        {
          "output_type": "execute_result",
          "data": {
            "text/plain": [
              "7"
            ]
          },
          "metadata": {
            "tags": []
          },
          "execution_count": 12
        }
      ]
    },
    {
      "cell_type": "markdown",
      "metadata": {
        "id": "53GzoeLq5iQ8"
      },
      "source": [
        "#### Preprocess data\n",
        "- Reshape the data so that it lines up with the Input and Output layers of the network\n",
        "- Input data is initially integer values 0-255, so convert those to float and divide by 255 to scale between 0 and 1\n",
        "- Convert the y(labels) to one-hot encoded outputs representing each of the 10 digits"
      ]
    },
    {
      "cell_type": "code",
      "metadata": {
        "id": "hJ76vxMa5iQ8"
      },
      "source": [
        "X_train = X_train.reshape(60000, 784).astype('float32')\n",
        "X_valid = X_valid.reshape(10000, 784).astype('float32')"
      ],
      "execution_count": 13,
      "outputs": []
    },
    {
      "cell_type": "code",
      "metadata": {
        "id": "vUq3fG8g5iQ8"
      },
      "source": [
        "X_train /= 255\n",
        "X_valid /= 255"
      ],
      "execution_count": 14,
      "outputs": []
    },
    {
      "cell_type": "code",
      "metadata": {
        "id": "NPZbqlVh5iQ8"
      },
      "source": [
        "X_valid[0]"
      ],
      "execution_count": null,
      "outputs": []
    },
    {
      "cell_type": "code",
      "metadata": {
        "id": "86L0mfEm5iQ8"
      },
      "source": [
        "n_classes = 10\n",
        "y_train = keras.utils.to_categorical(y_train, n_classes)\n",
        "y_valid = keras.utils.to_categorical(y_valid, n_classes)"
      ],
      "execution_count": 16,
      "outputs": []
    },
    {
      "cell_type": "code",
      "metadata": {
        "id": "FV6LT7VZ5iQ8",
        "outputId": "b2ffc757-7d7a-41ec-d671-5859ac1b0315",
        "colab": {
          "base_uri": "https://localhost:8080/"
        }
      },
      "source": [
        "y_valid[0]"
      ],
      "execution_count": 17,
      "outputs": [
        {
          "output_type": "execute_result",
          "data": {
            "text/plain": [
              "array([0., 0., 0., 0., 0., 0., 0., 1., 0., 0.], dtype=float32)"
            ]
          },
          "metadata": {
            "tags": []
          },
          "execution_count": 17
        }
      ]
    },
    {
      "cell_type": "markdown",
      "metadata": {
        "id": "K8SLIbrf5iQ9"
      },
      "source": [
        "#### Design neural network architecture\n",
        "- Just looking at the architecture now\n",
        "- We will look at the model summary and parameter math later"
      ]
    },
    {
      "cell_type": "code",
      "metadata": {
        "id": "su94Zopu5iQ9"
      },
      "source": [
        "model = Sequential()\n",
        "model.add(Dense(64, activation='sigmoid', input_shape=(784,)))\n",
        "model.add(Dense(10, activation='softmax'))"
      ],
      "execution_count": 18,
      "outputs": []
    },
    {
      "cell_type": "code",
      "metadata": {
        "id": "R-UUzvzi5iQ9"
      },
      "source": [
        "model.summary()"
      ],
      "execution_count": null,
      "outputs": []
    },
    {
      "cell_type": "code",
      "metadata": {
        "id": "NUnZXYRV5iQ9"
      },
      "source": [
        "(64*784)"
      ],
      "execution_count": null,
      "outputs": []
    },
    {
      "cell_type": "code",
      "metadata": {
        "id": "x5GQyUP95iQ9"
      },
      "source": [
        "(64*784)+64"
      ],
      "execution_count": null,
      "outputs": []
    },
    {
      "cell_type": "code",
      "metadata": {
        "id": "aOl0tO5a5iQ-"
      },
      "source": [
        "(10*64)+10"
      ],
      "execution_count": null,
      "outputs": []
    },
    {
      "cell_type": "markdown",
      "metadata": {
        "id": "rQFEKAH_5iQ-"
      },
      "source": [
        "#### Configure model\n",
        "\n",
        "- Just run this compile now.\n",
        "- We will discuss the compile later\n",
        "\n",
        "    - Loss function —This measures how accurate the model is during training. You want to minimize this function to \"steer\" the model in the right direction.\n",
        "    - Optimizer —This is how the model is updated based on the data it sees and its loss function.\n",
        "    - Metrics —Used to monitor the training and testing steps. The following example uses accuracy, the fraction of the images that are correctly classified."
      ]
    },
    {
      "cell_type": "code",
      "metadata": {
        "id": "euhvhJNF5iQ-"
      },
      "source": [
        "model.compile(loss='mean_squared_error', optimizer=SGD(lr=0.01), metrics=['accuracy'])"
      ],
      "execution_count": 23,
      "outputs": []
    },
    {
      "cell_type": "markdown",
      "metadata": {
        "id": "AZLsDb2w5iQ-"
      },
      "source": [
        "#### Train!\n",
        "\n",
        "- A batch is a subset of training data, utilized to render gradient descent managable and productive. \n",
        "- We're using batches of size 128 here. This is the number of training points used for a given iteration of the optimizer.\n",
        "  - Our 60,000 samples will be divided into 469 batches (60k/128=468.75), each with 128 samples\n",
        "- An epoch is a full pass over the training data. We are making 200 passes over the training data here\n",
        "  - Each epoch will involve 469 batches\n",
        "  - With 200 epochs, that means 93,800 total batches processed (200x469)\n",
        "- val_accuracy is proportion of images in validation set that model got correct"
      ]
    },
    {
      "cell_type": "code",
      "metadata": {
        "id": "ziQHm33b5iQ-",
        "outputId": "e6253beb-991b-4d53-b76a-080ca3dba115",
        "colab": {
          "base_uri": "https://localhost:8080/"
        }
      },
      "source": [
        "model.fit(X_train, y_train, batch_size=128, epochs=200, verbose=1, validation_data=(X_valid, y_valid))"
      ],
      "execution_count": 24,
      "outputs": [
        {
          "output_type": "stream",
          "text": [
            "Epoch 1/200\n",
            "469/469 [==============================] - 3s 4ms/step - loss: 0.0929 - accuracy: 0.0958 - val_loss: 0.0923 - val_accuracy: 0.1077\n",
            "Epoch 2/200\n",
            "469/469 [==============================] - 1s 2ms/step - loss: 0.0922 - accuracy: 0.1094 - val_loss: 0.0918 - val_accuracy: 0.1245\n",
            "Epoch 3/200\n",
            "469/469 [==============================] - 1s 2ms/step - loss: 0.0916 - accuracy: 0.1281 - val_loss: 0.0913 - val_accuracy: 0.1451\n",
            "Epoch 4/200\n",
            "469/469 [==============================] - 1s 2ms/step - loss: 0.0912 - accuracy: 0.1472 - val_loss: 0.0909 - val_accuracy: 0.1614\n",
            "Epoch 5/200\n",
            "469/469 [==============================] - 1s 2ms/step - loss: 0.0908 - accuracy: 0.1642 - val_loss: 0.0905 - val_accuracy: 0.1758\n",
            "Epoch 6/200\n",
            "469/469 [==============================] - 1s 2ms/step - loss: 0.0904 - accuracy: 0.1819 - val_loss: 0.0901 - val_accuracy: 0.1926\n",
            "Epoch 7/200\n",
            "469/469 [==============================] - 1s 2ms/step - loss: 0.0901 - accuracy: 0.1937 - val_loss: 0.0898 - val_accuracy: 0.2092\n",
            "Epoch 8/200\n",
            "469/469 [==============================] - 1s 2ms/step - loss: 0.0898 - accuracy: 0.2127 - val_loss: 0.0895 - val_accuracy: 0.2263\n",
            "Epoch 9/200\n",
            "469/469 [==============================] - 1s 2ms/step - loss: 0.0894 - accuracy: 0.2311 - val_loss: 0.0891 - val_accuracy: 0.2442\n",
            "Epoch 10/200\n",
            "469/469 [==============================] - 1s 2ms/step - loss: 0.0892 - accuracy: 0.2463 - val_loss: 0.0888 - val_accuracy: 0.2620\n",
            "Epoch 11/200\n",
            "469/469 [==============================] - 1s 2ms/step - loss: 0.0888 - accuracy: 0.2638 - val_loss: 0.0885 - val_accuracy: 0.2761\n",
            "Epoch 12/200\n",
            "469/469 [==============================] - 1s 2ms/step - loss: 0.0885 - accuracy: 0.2840 - val_loss: 0.0882 - val_accuracy: 0.3062\n",
            "Epoch 13/200\n",
            "469/469 [==============================] - 1s 2ms/step - loss: 0.0882 - accuracy: 0.3141 - val_loss: 0.0879 - val_accuracy: 0.3436\n",
            "Epoch 14/200\n",
            "469/469 [==============================] - 1s 2ms/step - loss: 0.0879 - accuracy: 0.3443 - val_loss: 0.0876 - val_accuracy: 0.3759\n",
            "Epoch 15/200\n",
            "469/469 [==============================] - 1s 2ms/step - loss: 0.0876 - accuracy: 0.3752 - val_loss: 0.0873 - val_accuracy: 0.3995\n",
            "Epoch 16/200\n",
            "469/469 [==============================] - 1s 2ms/step - loss: 0.0873 - accuracy: 0.4031 - val_loss: 0.0869 - val_accuracy: 0.4208\n",
            "Epoch 17/200\n",
            "469/469 [==============================] - 1s 2ms/step - loss: 0.0870 - accuracy: 0.4186 - val_loss: 0.0866 - val_accuracy: 0.4330\n",
            "Epoch 18/200\n",
            "469/469 [==============================] - 1s 2ms/step - loss: 0.0866 - accuracy: 0.4318 - val_loss: 0.0863 - val_accuracy: 0.4398\n",
            "Epoch 19/200\n",
            "469/469 [==============================] - 1s 2ms/step - loss: 0.0863 - accuracy: 0.4365 - val_loss: 0.0859 - val_accuracy: 0.4417\n",
            "Epoch 20/200\n",
            "469/469 [==============================] - 1s 2ms/step - loss: 0.0860 - accuracy: 0.4330 - val_loss: 0.0856 - val_accuracy: 0.4418\n",
            "Epoch 21/200\n",
            "469/469 [==============================] - 1s 2ms/step - loss: 0.0856 - accuracy: 0.4335 - val_loss: 0.0852 - val_accuracy: 0.4403\n",
            "Epoch 22/200\n",
            "469/469 [==============================] - 1s 2ms/step - loss: 0.0853 - accuracy: 0.4276 - val_loss: 0.0849 - val_accuracy: 0.4349\n",
            "Epoch 23/200\n",
            "469/469 [==============================] - 1s 2ms/step - loss: 0.0849 - accuracy: 0.4251 - val_loss: 0.0845 - val_accuracy: 0.4333\n",
            "Epoch 24/200\n",
            "469/469 [==============================] - 1s 2ms/step - loss: 0.0846 - accuracy: 0.4197 - val_loss: 0.0841 - val_accuracy: 0.4307\n",
            "Epoch 25/200\n",
            "469/469 [==============================] - 1s 2ms/step - loss: 0.0842 - accuracy: 0.4171 - val_loss: 0.0837 - val_accuracy: 0.4273\n",
            "Epoch 26/200\n",
            "469/469 [==============================] - 1s 2ms/step - loss: 0.0838 - accuracy: 0.4162 - val_loss: 0.0833 - val_accuracy: 0.4244\n",
            "Epoch 27/200\n",
            "469/469 [==============================] - 1s 2ms/step - loss: 0.0834 - accuracy: 0.4098 - val_loss: 0.0829 - val_accuracy: 0.4221\n",
            "Epoch 28/200\n",
            "469/469 [==============================] - 1s 2ms/step - loss: 0.0831 - accuracy: 0.4082 - val_loss: 0.0825 - val_accuracy: 0.4225\n",
            "Epoch 29/200\n",
            "469/469 [==============================] - 1s 2ms/step - loss: 0.0827 - accuracy: 0.4065 - val_loss: 0.0821 - val_accuracy: 0.4220\n",
            "Epoch 30/200\n",
            "469/469 [==============================] - 1s 2ms/step - loss: 0.0822 - accuracy: 0.4093 - val_loss: 0.0816 - val_accuracy: 0.4232\n",
            "Epoch 31/200\n",
            "469/469 [==============================] - 1s 2ms/step - loss: 0.0817 - accuracy: 0.4094 - val_loss: 0.0812 - val_accuracy: 0.4257\n",
            "Epoch 32/200\n",
            "469/469 [==============================] - 1s 2ms/step - loss: 0.0813 - accuracy: 0.4146 - val_loss: 0.0808 - val_accuracy: 0.4289\n",
            "Epoch 33/200\n",
            "469/469 [==============================] - 1s 2ms/step - loss: 0.0809 - accuracy: 0.4167 - val_loss: 0.0803 - val_accuracy: 0.4336\n",
            "Epoch 34/200\n",
            "469/469 [==============================] - 1s 2ms/step - loss: 0.0805 - accuracy: 0.4182 - val_loss: 0.0799 - val_accuracy: 0.4393\n",
            "Epoch 35/200\n",
            "469/469 [==============================] - 1s 2ms/step - loss: 0.0801 - accuracy: 0.4227 - val_loss: 0.0794 - val_accuracy: 0.4441\n",
            "Epoch 36/200\n",
            "469/469 [==============================] - 1s 2ms/step - loss: 0.0796 - accuracy: 0.4317 - val_loss: 0.0789 - val_accuracy: 0.4510\n",
            "Epoch 37/200\n",
            "469/469 [==============================] - 1s 2ms/step - loss: 0.0790 - accuracy: 0.4422 - val_loss: 0.0785 - val_accuracy: 0.4593\n",
            "Epoch 38/200\n",
            "469/469 [==============================] - 1s 2ms/step - loss: 0.0786 - accuracy: 0.4465 - val_loss: 0.0780 - val_accuracy: 0.4650\n",
            "Epoch 39/200\n",
            "469/469 [==============================] - 1s 2ms/step - loss: 0.0781 - accuracy: 0.4566 - val_loss: 0.0775 - val_accuracy: 0.4727\n",
            "Epoch 40/200\n",
            "469/469 [==============================] - 1s 2ms/step - loss: 0.0776 - accuracy: 0.4594 - val_loss: 0.0770 - val_accuracy: 0.4795\n",
            "Epoch 41/200\n",
            "469/469 [==============================] - 1s 3ms/step - loss: 0.0773 - accuracy: 0.4686 - val_loss: 0.0766 - val_accuracy: 0.4870\n",
            "Epoch 42/200\n",
            "469/469 [==============================] - 1s 2ms/step - loss: 0.0768 - accuracy: 0.4725 - val_loss: 0.0761 - val_accuracy: 0.4958\n",
            "Epoch 43/200\n",
            "469/469 [==============================] - 1s 2ms/step - loss: 0.0763 - accuracy: 0.4840 - val_loss: 0.0756 - val_accuracy: 0.5008\n",
            "Epoch 44/200\n",
            "469/469 [==============================] - 1s 2ms/step - loss: 0.0758 - accuracy: 0.4898 - val_loss: 0.0751 - val_accuracy: 0.5085\n",
            "Epoch 45/200\n",
            "469/469 [==============================] - 1s 2ms/step - loss: 0.0753 - accuracy: 0.4988 - val_loss: 0.0746 - val_accuracy: 0.5158\n",
            "Epoch 46/200\n",
            "469/469 [==============================] - 1s 2ms/step - loss: 0.0748 - accuracy: 0.5100 - val_loss: 0.0741 - val_accuracy: 0.5224\n",
            "Epoch 47/200\n",
            "469/469 [==============================] - 1s 2ms/step - loss: 0.0743 - accuracy: 0.5151 - val_loss: 0.0737 - val_accuracy: 0.5293\n",
            "Epoch 48/200\n",
            "469/469 [==============================] - 1s 2ms/step - loss: 0.0738 - accuracy: 0.5234 - val_loss: 0.0732 - val_accuracy: 0.5366\n",
            "Epoch 49/200\n",
            "469/469 [==============================] - 1s 2ms/step - loss: 0.0734 - accuracy: 0.5351 - val_loss: 0.0727 - val_accuracy: 0.5438\n",
            "Epoch 50/200\n",
            "469/469 [==============================] - 1s 2ms/step - loss: 0.0731 - accuracy: 0.5331 - val_loss: 0.0722 - val_accuracy: 0.5494\n",
            "Epoch 51/200\n",
            "469/469 [==============================] - 1s 2ms/step - loss: 0.0726 - accuracy: 0.5428 - val_loss: 0.0717 - val_accuracy: 0.5551\n",
            "Epoch 52/200\n",
            "469/469 [==============================] - 1s 2ms/step - loss: 0.0720 - accuracy: 0.5475 - val_loss: 0.0712 - val_accuracy: 0.5616\n",
            "Epoch 53/200\n",
            "469/469 [==============================] - 1s 3ms/step - loss: 0.0718 - accuracy: 0.5503 - val_loss: 0.0708 - val_accuracy: 0.5688\n",
            "Epoch 54/200\n",
            "469/469 [==============================] - 1s 2ms/step - loss: 0.0711 - accuracy: 0.5585 - val_loss: 0.0703 - val_accuracy: 0.5739\n",
            "Epoch 55/200\n",
            "469/469 [==============================] - 1s 3ms/step - loss: 0.0704 - accuracy: 0.5688 - val_loss: 0.0698 - val_accuracy: 0.5789\n",
            "Epoch 56/200\n",
            "469/469 [==============================] - 1s 3ms/step - loss: 0.0701 - accuracy: 0.5731 - val_loss: 0.0693 - val_accuracy: 0.5845\n",
            "Epoch 57/200\n",
            "469/469 [==============================] - 1s 2ms/step - loss: 0.0697 - accuracy: 0.5786 - val_loss: 0.0688 - val_accuracy: 0.5913\n",
            "Epoch 58/200\n",
            "469/469 [==============================] - 1s 2ms/step - loss: 0.0691 - accuracy: 0.5883 - val_loss: 0.0683 - val_accuracy: 0.5973\n",
            "Epoch 59/200\n",
            "469/469 [==============================] - 1s 3ms/step - loss: 0.0688 - accuracy: 0.5872 - val_loss: 0.0678 - val_accuracy: 0.6021\n",
            "Epoch 60/200\n",
            "469/469 [==============================] - 1s 2ms/step - loss: 0.0680 - accuracy: 0.5990 - val_loss: 0.0674 - val_accuracy: 0.6065\n",
            "Epoch 61/200\n",
            "469/469 [==============================] - 1s 2ms/step - loss: 0.0677 - accuracy: 0.5986 - val_loss: 0.0669 - val_accuracy: 0.6129\n",
            "Epoch 62/200\n",
            "469/469 [==============================] - 1s 2ms/step - loss: 0.0673 - accuracy: 0.6045 - val_loss: 0.0664 - val_accuracy: 0.6163\n",
            "Epoch 63/200\n",
            "469/469 [==============================] - 1s 2ms/step - loss: 0.0668 - accuracy: 0.6073 - val_loss: 0.0659 - val_accuracy: 0.6201\n",
            "Epoch 64/200\n",
            "469/469 [==============================] - 1s 2ms/step - loss: 0.0663 - accuracy: 0.6132 - val_loss: 0.0654 - val_accuracy: 0.6256\n",
            "Epoch 65/200\n",
            "469/469 [==============================] - 1s 3ms/step - loss: 0.0657 - accuracy: 0.6209 - val_loss: 0.0649 - val_accuracy: 0.6298\n",
            "Epoch 66/200\n",
            "469/469 [==============================] - 1s 2ms/step - loss: 0.0655 - accuracy: 0.6203 - val_loss: 0.0645 - val_accuracy: 0.6331\n",
            "Epoch 67/200\n",
            "469/469 [==============================] - 1s 2ms/step - loss: 0.0648 - accuracy: 0.6281 - val_loss: 0.0640 - val_accuracy: 0.6372\n",
            "Epoch 68/200\n",
            "469/469 [==============================] - 1s 2ms/step - loss: 0.0644 - accuracy: 0.6290 - val_loss: 0.0635 - val_accuracy: 0.6413\n",
            "Epoch 69/200\n",
            "469/469 [==============================] - 1s 3ms/step - loss: 0.0638 - accuracy: 0.6354 - val_loss: 0.0630 - val_accuracy: 0.6444\n",
            "Epoch 70/200\n",
            "469/469 [==============================] - 1s 2ms/step - loss: 0.0634 - accuracy: 0.6390 - val_loss: 0.0625 - val_accuracy: 0.6484\n",
            "Epoch 71/200\n",
            "469/469 [==============================] - 1s 2ms/step - loss: 0.0631 - accuracy: 0.6403 - val_loss: 0.0621 - val_accuracy: 0.6519\n",
            "Epoch 72/200\n",
            "469/469 [==============================] - 1s 2ms/step - loss: 0.0626 - accuracy: 0.6424 - val_loss: 0.0616 - val_accuracy: 0.6551\n",
            "Epoch 73/200\n",
            "469/469 [==============================] - 1s 3ms/step - loss: 0.0619 - accuracy: 0.6491 - val_loss: 0.0611 - val_accuracy: 0.6582\n",
            "Epoch 74/200\n",
            "469/469 [==============================] - 1s 2ms/step - loss: 0.0614 - accuracy: 0.6518 - val_loss: 0.0606 - val_accuracy: 0.6614\n",
            "Epoch 75/200\n",
            "469/469 [==============================] - 1s 3ms/step - loss: 0.0610 - accuracy: 0.6528 - val_loss: 0.0602 - val_accuracy: 0.6655\n",
            "Epoch 76/200\n",
            "469/469 [==============================] - 1s 3ms/step - loss: 0.0606 - accuracy: 0.6576 - val_loss: 0.0597 - val_accuracy: 0.6680\n",
            "Epoch 77/200\n",
            "469/469 [==============================] - 1s 3ms/step - loss: 0.0600 - accuracy: 0.6598 - val_loss: 0.0592 - val_accuracy: 0.6712\n",
            "Epoch 78/200\n",
            "469/469 [==============================] - 1s 2ms/step - loss: 0.0596 - accuracy: 0.6632 - val_loss: 0.0588 - val_accuracy: 0.6733\n",
            "Epoch 79/200\n",
            "469/469 [==============================] - 1s 2ms/step - loss: 0.0593 - accuracy: 0.6635 - val_loss: 0.0583 - val_accuracy: 0.6758\n",
            "Epoch 80/200\n",
            "469/469 [==============================] - 1s 2ms/step - loss: 0.0587 - accuracy: 0.6675 - val_loss: 0.0578 - val_accuracy: 0.6779\n",
            "Epoch 81/200\n",
            "469/469 [==============================] - 1s 2ms/step - loss: 0.0584 - accuracy: 0.6667 - val_loss: 0.0574 - val_accuracy: 0.6805\n",
            "Epoch 82/200\n",
            "469/469 [==============================] - 1s 2ms/step - loss: 0.0579 - accuracy: 0.6720 - val_loss: 0.0569 - val_accuracy: 0.6830\n",
            "Epoch 83/200\n",
            "469/469 [==============================] - 1s 2ms/step - loss: 0.0574 - accuracy: 0.6763 - val_loss: 0.0565 - val_accuracy: 0.6857\n",
            "Epoch 84/200\n",
            "469/469 [==============================] - 1s 2ms/step - loss: 0.0569 - accuracy: 0.6771 - val_loss: 0.0560 - val_accuracy: 0.6875\n",
            "Epoch 85/200\n",
            "469/469 [==============================] - 1s 3ms/step - loss: 0.0566 - accuracy: 0.6776 - val_loss: 0.0556 - val_accuracy: 0.6907\n",
            "Epoch 86/200\n",
            "469/469 [==============================] - 1s 3ms/step - loss: 0.0561 - accuracy: 0.6819 - val_loss: 0.0551 - val_accuracy: 0.6935\n",
            "Epoch 87/200\n",
            "469/469 [==============================] - 1s 3ms/step - loss: 0.0557 - accuracy: 0.6816 - val_loss: 0.0547 - val_accuracy: 0.6959\n",
            "Epoch 88/200\n",
            "469/469 [==============================] - 1s 3ms/step - loss: 0.0552 - accuracy: 0.6886 - val_loss: 0.0542 - val_accuracy: 0.6988\n",
            "Epoch 89/200\n",
            "469/469 [==============================] - 1s 2ms/step - loss: 0.0548 - accuracy: 0.6887 - val_loss: 0.0538 - val_accuracy: 0.7001\n",
            "Epoch 90/200\n",
            "469/469 [==============================] - 1s 3ms/step - loss: 0.0543 - accuracy: 0.6935 - val_loss: 0.0534 - val_accuracy: 0.7020\n",
            "Epoch 91/200\n",
            "469/469 [==============================] - 1s 2ms/step - loss: 0.0539 - accuracy: 0.6952 - val_loss: 0.0530 - val_accuracy: 0.7046\n",
            "Epoch 92/200\n",
            "469/469 [==============================] - 1s 2ms/step - loss: 0.0534 - accuracy: 0.6993 - val_loss: 0.0525 - val_accuracy: 0.7066\n",
            "Epoch 93/200\n",
            "469/469 [==============================] - 1s 2ms/step - loss: 0.0531 - accuracy: 0.7001 - val_loss: 0.0521 - val_accuracy: 0.7095\n",
            "Epoch 94/200\n",
            "469/469 [==============================] - 1s 3ms/step - loss: 0.0526 - accuracy: 0.7023 - val_loss: 0.0517 - val_accuracy: 0.7123\n",
            "Epoch 95/200\n",
            "469/469 [==============================] - 1s 3ms/step - loss: 0.0521 - accuracy: 0.7064 - val_loss: 0.0513 - val_accuracy: 0.7157\n",
            "Epoch 96/200\n",
            "469/469 [==============================] - 1s 3ms/step - loss: 0.0519 - accuracy: 0.7077 - val_loss: 0.0509 - val_accuracy: 0.7181\n",
            "Epoch 97/200\n",
            "469/469 [==============================] - 1s 2ms/step - loss: 0.0516 - accuracy: 0.7081 - val_loss: 0.0505 - val_accuracy: 0.7205\n",
            "Epoch 98/200\n",
            "469/469 [==============================] - 1s 2ms/step - loss: 0.0511 - accuracy: 0.7124 - val_loss: 0.0501 - val_accuracy: 0.7229\n",
            "Epoch 99/200\n",
            "469/469 [==============================] - 1s 2ms/step - loss: 0.0508 - accuracy: 0.7119 - val_loss: 0.0497 - val_accuracy: 0.7267\n",
            "Epoch 100/200\n",
            "469/469 [==============================] - 1s 2ms/step - loss: 0.0502 - accuracy: 0.7176 - val_loss: 0.0493 - val_accuracy: 0.7288\n",
            "Epoch 101/200\n",
            "469/469 [==============================] - 1s 2ms/step - loss: 0.0503 - accuracy: 0.7165 - val_loss: 0.0489 - val_accuracy: 0.7310\n",
            "Epoch 102/200\n",
            "469/469 [==============================] - 1s 2ms/step - loss: 0.0494 - accuracy: 0.7243 - val_loss: 0.0486 - val_accuracy: 0.7331\n",
            "Epoch 103/200\n",
            "469/469 [==============================] - 1s 3ms/step - loss: 0.0493 - accuracy: 0.7245 - val_loss: 0.0482 - val_accuracy: 0.7358\n",
            "Epoch 104/200\n",
            "469/469 [==============================] - 1s 2ms/step - loss: 0.0488 - accuracy: 0.7288 - val_loss: 0.0478 - val_accuracy: 0.7392\n",
            "Epoch 105/200\n",
            "469/469 [==============================] - 1s 3ms/step - loss: 0.0485 - accuracy: 0.7295 - val_loss: 0.0475 - val_accuracy: 0.7429\n",
            "Epoch 106/200\n",
            "469/469 [==============================] - 1s 3ms/step - loss: 0.0482 - accuracy: 0.7312 - val_loss: 0.0471 - val_accuracy: 0.7449\n",
            "Epoch 107/200\n",
            "469/469 [==============================] - 1s 3ms/step - loss: 0.0478 - accuracy: 0.7339 - val_loss: 0.0467 - val_accuracy: 0.7474\n",
            "Epoch 108/200\n",
            "469/469 [==============================] - 1s 3ms/step - loss: 0.0475 - accuracy: 0.7350 - val_loss: 0.0464 - val_accuracy: 0.7491\n",
            "Epoch 109/200\n",
            "469/469 [==============================] - 1s 3ms/step - loss: 0.0470 - accuracy: 0.7392 - val_loss: 0.0460 - val_accuracy: 0.7513\n",
            "Epoch 110/200\n",
            "469/469 [==============================] - 1s 3ms/step - loss: 0.0468 - accuracy: 0.7386 - val_loss: 0.0457 - val_accuracy: 0.7535\n",
            "Epoch 111/200\n",
            "469/469 [==============================] - 1s 2ms/step - loss: 0.0464 - accuracy: 0.7432 - val_loss: 0.0454 - val_accuracy: 0.7550\n",
            "Epoch 112/200\n",
            "469/469 [==============================] - 1s 3ms/step - loss: 0.0460 - accuracy: 0.7470 - val_loss: 0.0450 - val_accuracy: 0.7572\n",
            "Epoch 113/200\n",
            "469/469 [==============================] - 1s 3ms/step - loss: 0.0458 - accuracy: 0.7439 - val_loss: 0.0447 - val_accuracy: 0.7583\n",
            "Epoch 114/200\n",
            "469/469 [==============================] - 1s 2ms/step - loss: 0.0454 - accuracy: 0.7497 - val_loss: 0.0444 - val_accuracy: 0.7605\n",
            "Epoch 115/200\n",
            "469/469 [==============================] - 1s 2ms/step - loss: 0.0451 - accuracy: 0.7477 - val_loss: 0.0441 - val_accuracy: 0.7626\n",
            "Epoch 116/200\n",
            "469/469 [==============================] - 1s 2ms/step - loss: 0.0450 - accuracy: 0.7483 - val_loss: 0.0437 - val_accuracy: 0.7639\n",
            "Epoch 117/200\n",
            "469/469 [==============================] - 1s 3ms/step - loss: 0.0446 - accuracy: 0.7493 - val_loss: 0.0434 - val_accuracy: 0.7655\n",
            "Epoch 118/200\n",
            "469/469 [==============================] - 1s 2ms/step - loss: 0.0443 - accuracy: 0.7544 - val_loss: 0.0431 - val_accuracy: 0.7670\n",
            "Epoch 119/200\n",
            "469/469 [==============================] - 1s 3ms/step - loss: 0.0437 - accuracy: 0.7586 - val_loss: 0.0428 - val_accuracy: 0.7691\n",
            "Epoch 120/200\n",
            "469/469 [==============================] - 1s 3ms/step - loss: 0.0436 - accuracy: 0.7572 - val_loss: 0.0425 - val_accuracy: 0.7700\n",
            "Epoch 121/200\n",
            "469/469 [==============================] - 1s 3ms/step - loss: 0.0433 - accuracy: 0.7584 - val_loss: 0.0422 - val_accuracy: 0.7719\n",
            "Epoch 122/200\n",
            "469/469 [==============================] - 1s 2ms/step - loss: 0.0429 - accuracy: 0.7618 - val_loss: 0.0419 - val_accuracy: 0.7738\n",
            "Epoch 123/200\n",
            "469/469 [==============================] - 1s 2ms/step - loss: 0.0427 - accuracy: 0.7618 - val_loss: 0.0417 - val_accuracy: 0.7757\n",
            "Epoch 124/200\n",
            "469/469 [==============================] - 1s 2ms/step - loss: 0.0425 - accuracy: 0.7636 - val_loss: 0.0414 - val_accuracy: 0.7775\n",
            "Epoch 125/200\n",
            "469/469 [==============================] - 1s 3ms/step - loss: 0.0422 - accuracy: 0.7675 - val_loss: 0.0411 - val_accuracy: 0.7784\n",
            "Epoch 126/200\n",
            "469/469 [==============================] - 1s 2ms/step - loss: 0.0417 - accuracy: 0.7697 - val_loss: 0.0408 - val_accuracy: 0.7809\n",
            "Epoch 127/200\n",
            "469/469 [==============================] - 1s 3ms/step - loss: 0.0415 - accuracy: 0.7730 - val_loss: 0.0405 - val_accuracy: 0.7829\n",
            "Epoch 128/200\n",
            "469/469 [==============================] - 1s 2ms/step - loss: 0.0414 - accuracy: 0.7706 - val_loss: 0.0403 - val_accuracy: 0.7852\n",
            "Epoch 129/200\n",
            "469/469 [==============================] - 1s 2ms/step - loss: 0.0412 - accuracy: 0.7722 - val_loss: 0.0400 - val_accuracy: 0.7872\n",
            "Epoch 130/200\n",
            "469/469 [==============================] - 1s 3ms/step - loss: 0.0409 - accuracy: 0.7743 - val_loss: 0.0397 - val_accuracy: 0.7895\n",
            "Epoch 131/200\n",
            "469/469 [==============================] - 1s 3ms/step - loss: 0.0405 - accuracy: 0.7765 - val_loss: 0.0395 - val_accuracy: 0.7916\n",
            "Epoch 132/200\n",
            "469/469 [==============================] - 1s 2ms/step - loss: 0.0403 - accuracy: 0.7768 - val_loss: 0.0392 - val_accuracy: 0.7936\n",
            "Epoch 133/200\n",
            "469/469 [==============================] - 1s 2ms/step - loss: 0.0402 - accuracy: 0.7802 - val_loss: 0.0390 - val_accuracy: 0.7957\n",
            "Epoch 134/200\n",
            "469/469 [==============================] - 1s 3ms/step - loss: 0.0400 - accuracy: 0.7823 - val_loss: 0.0387 - val_accuracy: 0.7978\n",
            "Epoch 135/200\n",
            "469/469 [==============================] - 1s 2ms/step - loss: 0.0393 - accuracy: 0.7888 - val_loss: 0.0385 - val_accuracy: 0.7993\n",
            "Epoch 136/200\n",
            "469/469 [==============================] - 1s 3ms/step - loss: 0.0394 - accuracy: 0.7877 - val_loss: 0.0382 - val_accuracy: 0.8017\n",
            "Epoch 137/200\n",
            "469/469 [==============================] - 1s 2ms/step - loss: 0.0393 - accuracy: 0.7862 - val_loss: 0.0380 - val_accuracy: 0.8040\n",
            "Epoch 138/200\n",
            "469/469 [==============================] - 1s 2ms/step - loss: 0.0390 - accuracy: 0.7882 - val_loss: 0.0377 - val_accuracy: 0.8064\n",
            "Epoch 139/200\n",
            "469/469 [==============================] - 1s 3ms/step - loss: 0.0387 - accuracy: 0.7924 - val_loss: 0.0375 - val_accuracy: 0.8090\n",
            "Epoch 140/200\n",
            "469/469 [==============================] - 1s 3ms/step - loss: 0.0384 - accuracy: 0.7973 - val_loss: 0.0373 - val_accuracy: 0.8112\n",
            "Epoch 141/200\n",
            "469/469 [==============================] - 1s 2ms/step - loss: 0.0381 - accuracy: 0.8001 - val_loss: 0.0370 - val_accuracy: 0.8133\n",
            "Epoch 142/200\n",
            "469/469 [==============================] - 1s 2ms/step - loss: 0.0379 - accuracy: 0.8006 - val_loss: 0.0368 - val_accuracy: 0.8154\n",
            "Epoch 143/200\n",
            "469/469 [==============================] - 1s 3ms/step - loss: 0.0378 - accuracy: 0.8018 - val_loss: 0.0366 - val_accuracy: 0.8172\n",
            "Epoch 144/200\n",
            "469/469 [==============================] - 1s 3ms/step - loss: 0.0376 - accuracy: 0.8040 - val_loss: 0.0363 - val_accuracy: 0.8192\n",
            "Epoch 145/200\n",
            "469/469 [==============================] - 1s 3ms/step - loss: 0.0372 - accuracy: 0.8065 - val_loss: 0.0361 - val_accuracy: 0.8210\n",
            "Epoch 146/200\n",
            "469/469 [==============================] - 1s 3ms/step - loss: 0.0372 - accuracy: 0.8057 - val_loss: 0.0359 - val_accuracy: 0.8227\n",
            "Epoch 147/200\n",
            "469/469 [==============================] - 1s 3ms/step - loss: 0.0369 - accuracy: 0.8089 - val_loss: 0.0357 - val_accuracy: 0.8239\n",
            "Epoch 148/200\n",
            "469/469 [==============================] - 1s 3ms/step - loss: 0.0368 - accuracy: 0.8113 - val_loss: 0.0355 - val_accuracy: 0.8253\n",
            "Epoch 149/200\n",
            "469/469 [==============================] - 1s 3ms/step - loss: 0.0363 - accuracy: 0.8144 - val_loss: 0.0353 - val_accuracy: 0.8267\n",
            "Epoch 150/200\n",
            "469/469 [==============================] - 1s 3ms/step - loss: 0.0364 - accuracy: 0.8128 - val_loss: 0.0351 - val_accuracy: 0.8284\n",
            "Epoch 151/200\n",
            "469/469 [==============================] - 1s 3ms/step - loss: 0.0361 - accuracy: 0.8148 - val_loss: 0.0349 - val_accuracy: 0.8311\n",
            "Epoch 152/200\n",
            "469/469 [==============================] - 1s 3ms/step - loss: 0.0358 - accuracy: 0.8185 - val_loss: 0.0347 - val_accuracy: 0.8327\n",
            "Epoch 153/200\n",
            "469/469 [==============================] - 1s 3ms/step - loss: 0.0355 - accuracy: 0.8193 - val_loss: 0.0345 - val_accuracy: 0.8337\n",
            "Epoch 154/200\n",
            "469/469 [==============================] - 1s 3ms/step - loss: 0.0355 - accuracy: 0.8217 - val_loss: 0.0343 - val_accuracy: 0.8349\n",
            "Epoch 155/200\n",
            "469/469 [==============================] - 1s 3ms/step - loss: 0.0350 - accuracy: 0.8266 - val_loss: 0.0341 - val_accuracy: 0.8362\n",
            "Epoch 156/200\n",
            "469/469 [==============================] - 1s 3ms/step - loss: 0.0348 - accuracy: 0.8268 - val_loss: 0.0339 - val_accuracy: 0.8372\n",
            "Epoch 157/200\n",
            "469/469 [==============================] - 1s 3ms/step - loss: 0.0346 - accuracy: 0.8279 - val_loss: 0.0337 - val_accuracy: 0.8386\n",
            "Epoch 158/200\n",
            "469/469 [==============================] - 1s 3ms/step - loss: 0.0345 - accuracy: 0.8298 - val_loss: 0.0335 - val_accuracy: 0.8394\n",
            "Epoch 159/200\n",
            "469/469 [==============================] - 1s 3ms/step - loss: 0.0345 - accuracy: 0.8294 - val_loss: 0.0333 - val_accuracy: 0.8412\n",
            "Epoch 160/200\n",
            "469/469 [==============================] - 1s 2ms/step - loss: 0.0343 - accuracy: 0.8294 - val_loss: 0.0331 - val_accuracy: 0.8430\n",
            "Epoch 161/200\n",
            "469/469 [==============================] - 1s 2ms/step - loss: 0.0343 - accuracy: 0.8283 - val_loss: 0.0329 - val_accuracy: 0.8441\n",
            "Epoch 162/200\n",
            "469/469 [==============================] - 1s 3ms/step - loss: 0.0340 - accuracy: 0.8338 - val_loss: 0.0328 - val_accuracy: 0.8460\n",
            "Epoch 163/200\n",
            "469/469 [==============================] - 1s 2ms/step - loss: 0.0337 - accuracy: 0.8331 - val_loss: 0.0326 - val_accuracy: 0.8474\n",
            "Epoch 164/200\n",
            "469/469 [==============================] - 1s 3ms/step - loss: 0.0336 - accuracy: 0.8340 - val_loss: 0.0324 - val_accuracy: 0.8486\n",
            "Epoch 165/200\n",
            "469/469 [==============================] - 1s 2ms/step - loss: 0.0335 - accuracy: 0.8333 - val_loss: 0.0322 - val_accuracy: 0.8502\n",
            "Epoch 166/200\n",
            "469/469 [==============================] - 1s 3ms/step - loss: 0.0331 - accuracy: 0.8368 - val_loss: 0.0321 - val_accuracy: 0.8507\n",
            "Epoch 167/200\n",
            "469/469 [==============================] - 1s 3ms/step - loss: 0.0332 - accuracy: 0.8361 - val_loss: 0.0319 - val_accuracy: 0.8514\n",
            "Epoch 168/200\n",
            "469/469 [==============================] - 1s 3ms/step - loss: 0.0330 - accuracy: 0.8389 - val_loss: 0.0317 - val_accuracy: 0.8530\n",
            "Epoch 169/200\n",
            "469/469 [==============================] - 1s 3ms/step - loss: 0.0327 - accuracy: 0.8409 - val_loss: 0.0315 - val_accuracy: 0.8537\n",
            "Epoch 170/200\n",
            "469/469 [==============================] - 1s 3ms/step - loss: 0.0329 - accuracy: 0.8379 - val_loss: 0.0314 - val_accuracy: 0.8546\n",
            "Epoch 171/200\n",
            "469/469 [==============================] - 1s 3ms/step - loss: 0.0325 - accuracy: 0.8410 - val_loss: 0.0312 - val_accuracy: 0.8549\n",
            "Epoch 172/200\n",
            "469/469 [==============================] - 1s 3ms/step - loss: 0.0322 - accuracy: 0.8434 - val_loss: 0.0311 - val_accuracy: 0.8555\n",
            "Epoch 173/200\n",
            "469/469 [==============================] - 1s 3ms/step - loss: 0.0319 - accuracy: 0.8453 - val_loss: 0.0309 - val_accuracy: 0.8562\n",
            "Epoch 174/200\n",
            "469/469 [==============================] - 1s 3ms/step - loss: 0.0316 - accuracy: 0.8480 - val_loss: 0.0307 - val_accuracy: 0.8568\n",
            "Epoch 175/200\n",
            "469/469 [==============================] - 1s 3ms/step - loss: 0.0318 - accuracy: 0.8453 - val_loss: 0.0306 - val_accuracy: 0.8577\n",
            "Epoch 176/200\n",
            "469/469 [==============================] - 1s 3ms/step - loss: 0.0317 - accuracy: 0.8447 - val_loss: 0.0304 - val_accuracy: 0.8583\n",
            "Epoch 177/200\n",
            "469/469 [==============================] - 1s 3ms/step - loss: 0.0316 - accuracy: 0.8452 - val_loss: 0.0303 - val_accuracy: 0.8590\n",
            "Epoch 178/200\n",
            "469/469 [==============================] - 1s 3ms/step - loss: 0.0315 - accuracy: 0.8458 - val_loss: 0.0301 - val_accuracy: 0.8585\n",
            "Epoch 179/200\n",
            "469/469 [==============================] - 1s 3ms/step - loss: 0.0313 - accuracy: 0.8472 - val_loss: 0.0300 - val_accuracy: 0.8587\n",
            "Epoch 180/200\n",
            "469/469 [==============================] - 1s 3ms/step - loss: 0.0311 - accuracy: 0.8479 - val_loss: 0.0299 - val_accuracy: 0.8590\n",
            "Epoch 181/200\n",
            "469/469 [==============================] - 1s 3ms/step - loss: 0.0308 - accuracy: 0.8501 - val_loss: 0.0297 - val_accuracy: 0.8595\n",
            "Epoch 182/200\n",
            "469/469 [==============================] - 1s 3ms/step - loss: 0.0307 - accuracy: 0.8500 - val_loss: 0.0296 - val_accuracy: 0.8600\n",
            "Epoch 183/200\n",
            "469/469 [==============================] - 1s 3ms/step - loss: 0.0307 - accuracy: 0.8489 - val_loss: 0.0294 - val_accuracy: 0.8607\n",
            "Epoch 184/200\n",
            "469/469 [==============================] - 1s 3ms/step - loss: 0.0303 - accuracy: 0.8517 - val_loss: 0.0293 - val_accuracy: 0.8610\n",
            "Epoch 185/200\n",
            "469/469 [==============================] - 1s 3ms/step - loss: 0.0304 - accuracy: 0.8526 - val_loss: 0.0292 - val_accuracy: 0.8611\n",
            "Epoch 186/200\n",
            "469/469 [==============================] - 1s 3ms/step - loss: 0.0303 - accuracy: 0.8515 - val_loss: 0.0290 - val_accuracy: 0.8616\n",
            "Epoch 187/200\n",
            "469/469 [==============================] - 1s 3ms/step - loss: 0.0301 - accuracy: 0.8531 - val_loss: 0.0289 - val_accuracy: 0.8620\n",
            "Epoch 188/200\n",
            "469/469 [==============================] - 1s 3ms/step - loss: 0.0299 - accuracy: 0.8554 - val_loss: 0.0288 - val_accuracy: 0.8625\n",
            "Epoch 189/200\n",
            "469/469 [==============================] - 1s 3ms/step - loss: 0.0299 - accuracy: 0.8542 - val_loss: 0.0286 - val_accuracy: 0.8631\n",
            "Epoch 190/200\n",
            "469/469 [==============================] - 1s 3ms/step - loss: 0.0294 - accuracy: 0.8567 - val_loss: 0.0285 - val_accuracy: 0.8635\n",
            "Epoch 191/200\n",
            "469/469 [==============================] - 1s 3ms/step - loss: 0.0295 - accuracy: 0.8550 - val_loss: 0.0284 - val_accuracy: 0.8638\n",
            "Epoch 192/200\n",
            "469/469 [==============================] - 1s 3ms/step - loss: 0.0293 - accuracy: 0.8584 - val_loss: 0.0282 - val_accuracy: 0.8646\n",
            "Epoch 193/200\n",
            "469/469 [==============================] - 1s 3ms/step - loss: 0.0291 - accuracy: 0.8577 - val_loss: 0.0281 - val_accuracy: 0.8650\n",
            "Epoch 194/200\n",
            "469/469 [==============================] - 1s 2ms/step - loss: 0.0292 - accuracy: 0.8547 - val_loss: 0.0280 - val_accuracy: 0.8657\n",
            "Epoch 195/200\n",
            "469/469 [==============================] - 1s 3ms/step - loss: 0.0290 - accuracy: 0.8579 - val_loss: 0.0279 - val_accuracy: 0.8662\n",
            "Epoch 196/200\n",
            "469/469 [==============================] - 1s 3ms/step - loss: 0.0286 - accuracy: 0.8621 - val_loss: 0.0278 - val_accuracy: 0.8666\n",
            "Epoch 197/200\n",
            "469/469 [==============================] - 1s 3ms/step - loss: 0.0288 - accuracy: 0.8599 - val_loss: 0.0276 - val_accuracy: 0.8676\n",
            "Epoch 198/200\n",
            "469/469 [==============================] - 1s 3ms/step - loss: 0.0285 - accuracy: 0.8612 - val_loss: 0.0275 - val_accuracy: 0.8677\n",
            "Epoch 199/200\n",
            "469/469 [==============================] - 1s 3ms/step - loss: 0.0285 - accuracy: 0.8597 - val_loss: 0.0274 - val_accuracy: 0.8681\n",
            "Epoch 200/200\n",
            "469/469 [==============================] - 1s 3ms/step - loss: 0.0285 - accuracy: 0.8600 - val_loss: 0.0273 - val_accuracy: 0.8688\n"
          ],
          "name": "stdout"
        },
        {
          "output_type": "execute_result",
          "data": {
            "text/plain": [
              "<tensorflow.python.keras.callbacks.History at 0x7fc8b14c5c90>"
            ]
          },
          "metadata": {
            "tags": []
          },
          "execution_count": 24
        }
      ]
    },
    {
      "cell_type": "code",
      "metadata": {
        "id": "TmwbLxTU5iQ-",
        "outputId": "7e222562-e84b-4166-f87d-10c16a2c9f4f",
        "colab": {
          "base_uri": "https://localhost:8080/"
        }
      },
      "source": [
        "# provides the loss and accuracy against a sample\n",
        "# batch size defaults to 32.  Which means there were 313 batches (10,000 / 32)\n",
        "model.evaluate(X_valid, y_valid)"
      ],
      "execution_count": 25,
      "outputs": [
        {
          "output_type": "stream",
          "text": [
            "313/313 [==============================] - 0s 922us/step - loss: 0.0273 - accuracy: 0.8688\n"
          ],
          "name": "stdout"
        },
        {
          "output_type": "execute_result",
          "data": {
            "text/plain": [
              "[0.02729223296046257, 0.8687999844551086]"
            ]
          },
          "metadata": {
            "tags": []
          },
          "execution_count": 25
        }
      ]
    },
    {
      "cell_type": "code",
      "metadata": {
        "id": "SD10h0_25iQ_"
      },
      "source": [
        ""
      ],
      "execution_count": null,
      "outputs": []
    }
  ]
}