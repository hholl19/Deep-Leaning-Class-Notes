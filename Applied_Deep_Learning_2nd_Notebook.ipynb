{
  "nbformat": 4,
  "nbformat_minor": 0,
  "metadata": {
    "colab": {
      "name": "Applied Deep Learning 2nd Notebook.ipynb",
      "provenance": [],
      "authorship_tag": "ABX9TyMtrtnuFAuDT4DAxpTEXK3n",
      "include_colab_link": true
    },
    "kernelspec": {
      "name": "python3",
      "display_name": "Python 3"
    },
    "language_info": {
      "name": "python"
    },
    "accelerator": "GPU"
  },
  "cells": [
    {
      "cell_type": "markdown",
      "metadata": {
        "id": "view-in-github",
        "colab_type": "text"
      },
      "source": [
        "<a href=\"https://colab.research.google.com/github/hholl19/Deep-Leaning-Class-Notes/blob/hholl19_added_things/Applied_Deep_Learning_2nd_Notebook.ipynb\" target=\"_parent\"><img src=\"https://colab.research.google.com/assets/colab-badge.svg\" alt=\"Open In Colab\"/></a>"
      ]
    },
    {
      "cell_type": "code",
      "metadata": {
        "id": "wx49vhXevrcO"
      },
      "source": [
        "import keras\n",
        "import pandas as pd\n",
        "import numpy as np\n",
        "import os\n",
        "import pathlib \n",
        "from pathlib import Path\n",
        "#import cv2\n",
        "#from tqdm import tqdm\n",
        "from keras.models import Sequential\n",
        "from keras.layers import Dropout, Dense, Flatten, Conv2D, MaxPooling2D \n",
        "from keras.layers.normalization import BatchNormalization \n",
        "from keras.optimizers import SGD\n",
        "from sklearn.model_selection import train_test_split\n",
        "from tensorflow.keras.applications.vgg19 import VGG19\n",
        "\n",
        "from numpy import expand_dims\n",
        "from keras.preprocessing.image import ImageDataGenerator, load_img, img_to_array\n",
        "from matplotlib import pyplot"
      ],
      "execution_count": 2,
      "outputs": []
    },
    {
      "cell_type": "code",
      "metadata": {
        "id": "c4EJpjIYxTsj",
        "colab": {
          "base_uri": "https://localhost:8080/"
        },
        "outputId": "b431032c-5571-49bb-9cb7-97da204ebdf3"
      },
      "source": [
        "from google.colab import drive\n",
        "drive.mount('/content/drive')"
      ],
      "execution_count": 3,
      "outputs": [
        {
          "output_type": "stream",
          "text": [
            "Mounted at /content/drive\n"
          ],
          "name": "stdout"
        }
      ]
    },
    {
      "cell_type": "code",
      "metadata": {
        "colab": {
          "base_uri": "https://localhost:8080/"
        },
        "id": "EI3pK48OK9b4",
        "outputId": "2d4e5e4b-65c1-42f1-fe8d-b5a42017778f"
      },
      "source": [
        "file_path= '/content/drive/MyDrive/Kaggle-Applied Deep Learning Project/Inputs'\n",
        "folders = os.listdir(file_path)\n",
        "print(folders)"
      ],
      "execution_count": 4,
      "outputs": [
        {
          "output_type": "stream",
          "text": [
            "['test.csv', 'train.csv', 'train', 'test']\n"
          ],
          "name": "stdout"
        }
      ]
    },
    {
      "cell_type": "code",
      "metadata": {
        "colab": {
          "base_uri": "https://localhost:8080/",
          "height": 204
        },
        "id": "MB-J5N4Y1nnC",
        "outputId": "888bdae0-a6e3-4806-d41d-761ffa70e38b"
      },
      "source": [
        "df_train= pd.read_csv('/content/drive/MyDrive/Kaggle-Applied Deep Learning Project/Inputs/train.csv')\n",
        "df_train.head()"
      ],
      "execution_count": 5,
      "outputs": [
        {
          "output_type": "execute_result",
          "data": {
            "text/html": [
              "<div>\n",
              "<style scoped>\n",
              "    .dataframe tbody tr th:only-of-type {\n",
              "        vertical-align: middle;\n",
              "    }\n",
              "\n",
              "    .dataframe tbody tr th {\n",
              "        vertical-align: top;\n",
              "    }\n",
              "\n",
              "    .dataframe thead th {\n",
              "        text-align: right;\n",
              "    }\n",
              "</style>\n",
              "<table border=\"1\" class=\"dataframe\">\n",
              "  <thead>\n",
              "    <tr style=\"text-align: right;\">\n",
              "      <th></th>\n",
              "      <th>image_id</th>\n",
              "      <th>breed</th>\n",
              "    </tr>\n",
              "  </thead>\n",
              "  <tbody>\n",
              "    <tr>\n",
              "      <th>0</th>\n",
              "      <td>a8b3ad1dde</td>\n",
              "      <td>nerodia-erythrogaster</td>\n",
              "    </tr>\n",
              "    <tr>\n",
              "      <th>1</th>\n",
              "      <td>8b492b973d</td>\n",
              "      <td>pantherophis-vulpinus</td>\n",
              "    </tr>\n",
              "    <tr>\n",
              "      <th>2</th>\n",
              "      <td>929b99ea92</td>\n",
              "      <td>thamnophis-sirtalis</td>\n",
              "    </tr>\n",
              "    <tr>\n",
              "      <th>3</th>\n",
              "      <td>bbac7385e2</td>\n",
              "      <td>pantherophis-obsoletus</td>\n",
              "    </tr>\n",
              "    <tr>\n",
              "      <th>4</th>\n",
              "      <td>ef776b1488</td>\n",
              "      <td>agkistrodon-contortrix</td>\n",
              "    </tr>\n",
              "  </tbody>\n",
              "</table>\n",
              "</div>"
            ],
            "text/plain": [
              "     image_id                   breed\n",
              "0  a8b3ad1dde   nerodia-erythrogaster\n",
              "1  8b492b973d   pantherophis-vulpinus\n",
              "2  929b99ea92     thamnophis-sirtalis\n",
              "3  bbac7385e2  pantherophis-obsoletus\n",
              "4  ef776b1488  agkistrodon-contortrix"
            ]
          },
          "metadata": {
            "tags": []
          },
          "execution_count": 5
        }
      ]
    },
    {
      "cell_type": "code",
      "metadata": {
        "colab": {
          "base_uri": "https://localhost:8080/",
          "height": 204
        },
        "id": "PJd-FQqh1yBp",
        "outputId": "ee1bb6f1-f1ea-4a0f-a35c-48d9e421b193"
      },
      "source": [
        "df_train[\"image_id\"]=\"/content/drive/MyDrive/Kaggle-Applied Deep Learning Project/Inputs/train/\" + df_train[\"image_id\"] + \".jpg\"\n",
        "df_train.head()"
      ],
      "execution_count": 6,
      "outputs": [
        {
          "output_type": "execute_result",
          "data": {
            "text/html": [
              "<div>\n",
              "<style scoped>\n",
              "    .dataframe tbody tr th:only-of-type {\n",
              "        vertical-align: middle;\n",
              "    }\n",
              "\n",
              "    .dataframe tbody tr th {\n",
              "        vertical-align: top;\n",
              "    }\n",
              "\n",
              "    .dataframe thead th {\n",
              "        text-align: right;\n",
              "    }\n",
              "</style>\n",
              "<table border=\"1\" class=\"dataframe\">\n",
              "  <thead>\n",
              "    <tr style=\"text-align: right;\">\n",
              "      <th></th>\n",
              "      <th>image_id</th>\n",
              "      <th>breed</th>\n",
              "    </tr>\n",
              "  </thead>\n",
              "  <tbody>\n",
              "    <tr>\n",
              "      <th>0</th>\n",
              "      <td>/content/drive/MyDrive/Kaggle-Applied Deep Lea...</td>\n",
              "      <td>nerodia-erythrogaster</td>\n",
              "    </tr>\n",
              "    <tr>\n",
              "      <th>1</th>\n",
              "      <td>/content/drive/MyDrive/Kaggle-Applied Deep Lea...</td>\n",
              "      <td>pantherophis-vulpinus</td>\n",
              "    </tr>\n",
              "    <tr>\n",
              "      <th>2</th>\n",
              "      <td>/content/drive/MyDrive/Kaggle-Applied Deep Lea...</td>\n",
              "      <td>thamnophis-sirtalis</td>\n",
              "    </tr>\n",
              "    <tr>\n",
              "      <th>3</th>\n",
              "      <td>/content/drive/MyDrive/Kaggle-Applied Deep Lea...</td>\n",
              "      <td>pantherophis-obsoletus</td>\n",
              "    </tr>\n",
              "    <tr>\n",
              "      <th>4</th>\n",
              "      <td>/content/drive/MyDrive/Kaggle-Applied Deep Lea...</td>\n",
              "      <td>agkistrodon-contortrix</td>\n",
              "    </tr>\n",
              "  </tbody>\n",
              "</table>\n",
              "</div>"
            ],
            "text/plain": [
              "                                            image_id                   breed\n",
              "0  /content/drive/MyDrive/Kaggle-Applied Deep Lea...   nerodia-erythrogaster\n",
              "1  /content/drive/MyDrive/Kaggle-Applied Deep Lea...   pantherophis-vulpinus\n",
              "2  /content/drive/MyDrive/Kaggle-Applied Deep Lea...     thamnophis-sirtalis\n",
              "3  /content/drive/MyDrive/Kaggle-Applied Deep Lea...  pantherophis-obsoletus\n",
              "4  /content/drive/MyDrive/Kaggle-Applied Deep Lea...  agkistrodon-contortrix"
            ]
          },
          "metadata": {
            "tags": []
          },
          "execution_count": 6
        }
      ]
    },
    {
      "cell_type": "code",
      "metadata": {
        "id": "HgyZB9ONzcjL",
        "colab": {
          "base_uri": "https://localhost:8080/"
        },
        "outputId": "7cf838aa-3067-4f03-d62d-7937a2ba8a4b"
      },
      "source": [
        "vgg19 = VGG19(include_top=False,\n",
        "              weights='imagenet',\n",
        "              input_shape=(224,224,3),\n",
        "              pooling=None)"
      ],
      "execution_count": 7,
      "outputs": [
        {
          "output_type": "stream",
          "text": [
            "Downloading data from https://storage.googleapis.com/tensorflow/keras-applications/vgg19/vgg19_weights_tf_dim_ordering_tf_kernels_notop.h5\n",
            "80142336/80134624 [==============================] - 0s 0us/step\n"
          ],
          "name": "stdout"
        }
      ]
    },
    {
      "cell_type": "code",
      "metadata": {
        "id": "SmC5lWXa2G0L"
      },
      "source": [
        "for layer in vgg19.layers:\n",
        "    layer.trainable = False"
      ],
      "execution_count": 8,
      "outputs": []
    },
    {
      "cell_type": "code",
      "metadata": {
        "id": "2rcKHjIU2Lfo"
      },
      "source": [
        "# Instantiate the sequential model and add the VGG19 model: \n",
        "model = Sequential()\n",
        "model.add(vgg19)\n",
        "\n",
        "# Add the custom layers atop the VGG19 model: \n",
        "model.add(Flatten(name='flattened'))\n",
        "model.add(Dropout(0.3, name='dropout'))\n",
        "model.add(Dense(35, activation='softmax', name='predictions'))"
      ],
      "execution_count": 9,
      "outputs": []
    },
    {
      "cell_type": "code",
      "metadata": {
        "id": "mMKXqrQL2RvQ"
      },
      "source": [
        "model.compile(optimizer='adam', loss='categorical_crossentropy', metrics=['accuracy'])"
      ],
      "execution_count": 10,
      "outputs": []
    },
    {
      "cell_type": "code",
      "metadata": {
        "id": "nDU3SMbJ2bjx"
      },
      "source": [
        "train_datagen = ImageDataGenerator(rescale=1/255,\n",
        "        validation_split=0.2,\n",
        "        data_format='channels_last',\n",
        "        rotation_range=30,\n",
        "        horizontal_flip=True,\n",
        "        fill_mode='reflect') \n",
        "test_datagen = ImageDataGenerator(\n",
        "    rescale=1.0/255,\n",
        "    data_format='channels_last')"
      ],
      "execution_count": 11,
      "outputs": []
    },
    {
      "cell_type": "code",
      "metadata": {
        "colab": {
          "base_uri": "https://localhost:8080/"
        },
        "id": "-hyRbuke3JFj",
        "outputId": "475029fc-13a9-4105-b5ac-6ff105709996"
      },
      "source": [
        "train_gen = train_datagen.flow_from_dataframe(\n",
        "        dataframe=df_train,\n",
        "        directory=\"/content/drive/MyDrive/Kaggle-Applied Deep Learning Project/Inputs/train/\",\n",
        "        x_col=\"image_id\",\n",
        "        y_col=\"breed\",\n",
        "        subset=\"training\",\n",
        "        batch_size=32,\n",
        "        seed=123,\n",
        "        shuffle=True,\n",
        "        color_mode=\"rgb\",\n",
        "        class_mode=\"categorical\", # this does the work of encoding\n",
        "        target_size=(224,224)) # Change acc to model requirements"
      ],
      "execution_count": 12,
      "outputs": [
        {
          "output_type": "stream",
          "text": [
            "Found 4407 validated image filenames belonging to 35 classes.\n"
          ],
          "name": "stdout"
        }
      ]
    },
    {
      "cell_type": "code",
      "metadata": {
        "colab": {
          "base_uri": "https://localhost:8080/"
        },
        "id": "_-yDwdhc3NfC",
        "outputId": "b6f5deaa-9359-4a5d-b169-50cfff2cc10a"
      },
      "source": [
        "test_gen = train_datagen.flow_from_dataframe(\n",
        "        dataframe=df_train,\n",
        "        directory=\"/content/drive/MyDrive/Kaggle-Applied Deep Learning Project/Inputs/train/\",\n",
        "        x_col=\"image_id\",\n",
        "        y_col=\"breed\",\n",
        "        subset=\"validation\",\n",
        "        batch_size=32,\n",
        "        seed=123,\n",
        "        shuffle=True,\n",
        "        color_mode=\"rgb\",\n",
        "        class_mode=\"categorical\", # this does the work of encoding\n",
        "        target_size=(224,224))"
      ],
      "execution_count": 13,
      "outputs": [
        {
          "output_type": "stream",
          "text": [
            "Found 1101 validated image filenames belonging to 35 classes.\n"
          ],
          "name": "stdout"
        }
      ]
    },
    {
      "cell_type": "code",
      "metadata": {
        "colab": {
          "base_uri": "https://localhost:8080/"
        },
        "id": "ApHrAXo_Gjix",
        "outputId": "612b9a65-5f1a-4287-ca34-d5bf6cdd7bb4"
      },
      "source": [
        "model.fit(train_gen, steps_per_epoch=20, \n",
        "                    epochs=75, validation_data=test_gen, \n",
        "                    validation_steps=20)"
      ],
      "execution_count": null,
      "outputs": [
        {
          "output_type": "stream",
          "text": [
            "Epoch 1/75\n",
            "20/20 [==============================] - 390s 19s/step - loss: 5.2672 - accuracy: 0.0479 - val_loss: 4.1902 - val_accuracy: 0.0766\n",
            "Epoch 2/75\n",
            "20/20 [==============================] - 232s 12s/step - loss: 4.1299 - accuracy: 0.0692 - val_loss: 4.4039 - val_accuracy: 0.0969\n",
            "Epoch 3/75\n",
            "20/20 [==============================] - 163s 8s/step - loss: 3.9867 - accuracy: 0.1017 - val_loss: 3.8810 - val_accuracy: 0.1125\n",
            "Epoch 4/75\n",
            "20/20 [==============================] - 127s 6s/step - loss: 3.6710 - accuracy: 0.1502 - val_loss: 3.7579 - val_accuracy: 0.1406\n",
            "Epoch 5/75\n",
            "20/20 [==============================] - 110s 6s/step - loss: 3.6106 - accuracy: 0.1526 - val_loss: 3.6663 - val_accuracy: 0.1000\n",
            "Epoch 6/75\n",
            "20/20 [==============================] - 92s 5s/step - loss: 3.4918 - accuracy: 0.1829 - val_loss: 3.8422 - val_accuracy: 0.1156\n",
            "Epoch 7/75\n",
            "20/20 [==============================] - 76s 4s/step - loss: 3.3993 - accuracy: 0.1729 - val_loss: 3.7677 - val_accuracy: 0.1000\n",
            "Epoch 8/75\n",
            "20/20 [==============================] - 66s 3s/step - loss: 3.3463 - accuracy: 0.1890 - val_loss: 4.0079 - val_accuracy: 0.1187\n",
            "Epoch 9/75\n",
            "20/20 [==============================] - 65s 3s/step - loss: 3.3361 - accuracy: 0.1852 - val_loss: 3.9047 - val_accuracy: 0.0984\n",
            "Epoch 10/75\n",
            "20/20 [==============================] - 54s 3s/step - loss: 3.5883 - accuracy: 0.1733 - val_loss: 3.7070 - val_accuracy: 0.1344\n",
            "Epoch 11/75\n",
            "20/20 [==============================] - 46s 2s/step - loss: 3.1108 - accuracy: 0.2026 - val_loss: 3.9273 - val_accuracy: 0.1203\n",
            "Epoch 12/75\n",
            "20/20 [==============================] - 42s 2s/step - loss: 3.2155 - accuracy: 0.2314 - val_loss: 3.9796 - val_accuracy: 0.1266\n",
            "Epoch 13/75\n",
            "20/20 [==============================] - 37s 2s/step - loss: 3.3318 - accuracy: 0.1944 - val_loss: 4.0517 - val_accuracy: 0.1109\n",
            "Epoch 14/75\n",
            "20/20 [==============================] - 36s 2s/step - loss: 3.4420 - accuracy: 0.1775 - val_loss: 4.6626 - val_accuracy: 0.1328\n",
            "Epoch 15/75\n",
            "20/20 [==============================] - 35s 2s/step - loss: 3.6120 - accuracy: 0.1990 - val_loss: 4.3176 - val_accuracy: 0.1250\n",
            "Epoch 16/75\n",
            "20/20 [==============================] - 31s 2s/step - loss: 3.6367 - accuracy: 0.1925 - val_loss: 4.0520 - val_accuracy: 0.1078\n",
            "Epoch 17/75\n",
            "20/20 [==============================] - 29s 1s/step - loss: 3.1556 - accuracy: 0.2434 - val_loss: 3.9766 - val_accuracy: 0.1328\n",
            "Epoch 18/75\n",
            "20/20 [==============================] - 26s 1s/step - loss: 3.0547 - accuracy: 0.2759 - val_loss: 4.0130 - val_accuracy: 0.1250\n",
            "Epoch 19/75\n",
            "20/20 [==============================] - 25s 1s/step - loss: 2.9181 - accuracy: 0.2290 - val_loss: 3.7597 - val_accuracy: 0.1672\n",
            "Epoch 20/75\n",
            "20/20 [==============================] - 24s 1s/step - loss: 2.8371 - accuracy: 0.2973 - val_loss: 4.2455 - val_accuracy: 0.1391\n",
            "Epoch 21/75\n",
            "20/20 [==============================] - 25s 1s/step - loss: 3.0801 - accuracy: 0.2368 - val_loss: 4.0420 - val_accuracy: 0.1484\n",
            "Epoch 22/75\n",
            "20/20 [==============================] - 22s 1s/step - loss: 3.1118 - accuracy: 0.3126 - val_loss: 4.0669 - val_accuracy: 0.1500\n",
            "Epoch 23/75\n",
            "20/20 [==============================] - 22s 1s/step - loss: 2.9017 - accuracy: 0.2911 - val_loss: 4.1016 - val_accuracy: 0.1312\n",
            "Epoch 24/75\n",
            "20/20 [==============================] - 22s 1s/step - loss: 2.7382 - accuracy: 0.2990 - val_loss: 4.4880 - val_accuracy: 0.1453\n",
            "Epoch 25/75\n",
            "20/20 [==============================] - 18s 942ms/step - loss: 3.0495 - accuracy: 0.3019 - val_loss: 4.1359 - val_accuracy: 0.1375\n",
            "Epoch 26/75\n",
            "20/20 [==============================] - 18s 903ms/step - loss: 2.7990 - accuracy: 0.3017 - val_loss: 3.8928 - val_accuracy: 0.1453\n",
            "Epoch 27/75\n",
            "20/20 [==============================] - 19s 972ms/step - loss: 2.8155 - accuracy: 0.3009 - val_loss: 4.2021 - val_accuracy: 0.1312\n",
            "Epoch 28/75\n",
            "20/20 [==============================] - 19s 974ms/step - loss: 2.7545 - accuracy: 0.3043 - val_loss: 4.1979 - val_accuracy: 0.1359\n",
            "Epoch 29/75\n",
            "20/20 [==============================] - 18s 902ms/step - loss: 2.7072 - accuracy: 0.3331 - val_loss: 3.9706 - val_accuracy: 0.1641\n",
            "Epoch 30/75\n",
            "20/20 [==============================] - 19s 938ms/step - loss: 2.7352 - accuracy: 0.3007 - val_loss: 3.8904 - val_accuracy: 0.1281\n",
            "Epoch 31/75\n",
            "20/20 [==============================] - 19s 971ms/step - loss: 2.5552 - accuracy: 0.3309 - val_loss: 4.2168 - val_accuracy: 0.1266\n",
            "Epoch 32/75\n",
            "20/20 [==============================] - 18s 905ms/step - loss: 2.6485 - accuracy: 0.3600 - val_loss: 4.2035 - val_accuracy: 0.1484\n",
            "Epoch 33/75\n",
            "20/20 [==============================] - 17s 877ms/step - loss: 2.5044 - accuracy: 0.3646 - val_loss: 4.2538 - val_accuracy: 0.1328\n",
            "Epoch 34/75\n",
            "20/20 [==============================] - 18s 912ms/step - loss: 2.8249 - accuracy: 0.3039 - val_loss: 4.2927 - val_accuracy: 0.1656\n",
            "Epoch 35/75\n",
            "20/20 [==============================] - 19s 960ms/step - loss: 2.9956 - accuracy: 0.2946 - val_loss: 3.9626 - val_accuracy: 0.1234\n",
            "Epoch 36/75\n",
            "20/20 [==============================] - 16s 831ms/step - loss: 2.4425 - accuracy: 0.3407 - val_loss: 4.2053 - val_accuracy: 0.1312\n",
            "Epoch 37/75\n",
            "20/20 [==============================] - 17s 851ms/step - loss: 2.2705 - accuracy: 0.4071 - val_loss: 4.3522 - val_accuracy: 0.1719\n",
            "Epoch 38/75\n",
            "20/20 [==============================] - 18s 901ms/step - loss: 2.5846 - accuracy: 0.3856 - val_loss: 4.0628 - val_accuracy: 0.1359\n",
            "Epoch 39/75\n",
            "20/20 [==============================] - 18s 928ms/step - loss: 2.3967 - accuracy: 0.4088 - val_loss: 4.1082 - val_accuracy: 0.1406\n",
            "Epoch 40/75\n",
            "20/20 [==============================] - 18s 895ms/step - loss: 2.4976 - accuracy: 0.3574 - val_loss: 4.2643 - val_accuracy: 0.1562\n",
            "Epoch 41/75\n",
            "20/20 [==============================] - 16s 837ms/step - loss: 2.2769 - accuracy: 0.3790 - val_loss: 4.1585 - val_accuracy: 0.1437\n",
            "Epoch 42/75\n",
            "20/20 [==============================] - 17s 846ms/step - loss: 2.4852 - accuracy: 0.3752 - val_loss: 4.0050 - val_accuracy: 0.1688\n",
            "Epoch 43/75\n",
            "20/20 [==============================] - 17s 890ms/step - loss: 2.3421 - accuracy: 0.3841 - val_loss: 4.4467 - val_accuracy: 0.1187\n",
            "Epoch 44/75\n",
            "20/20 [==============================] - 17s 837ms/step - loss: 2.4243 - accuracy: 0.3987 - val_loss: 4.2048 - val_accuracy: 0.1703\n",
            "Epoch 45/75\n",
            "20/20 [==============================] - 16s 820ms/step - loss: 2.5057 - accuracy: 0.3537 - val_loss: 4.3558 - val_accuracy: 0.1531\n",
            "Epoch 46/75\n",
            "20/20 [==============================] - 17s 873ms/step - loss: 2.5466 - accuracy: 0.3784 - val_loss: 4.3701 - val_accuracy: 0.1281\n",
            "Epoch 47/75\n",
            "20/20 [==============================] - 17s 877ms/step - loss: 2.6793 - accuracy: 0.3634 - val_loss: 4.1278 - val_accuracy: 0.1312\n",
            "Epoch 48/75\n",
            "20/20 [==============================] - 16s 826ms/step - loss: 2.3538 - accuracy: 0.4150 - val_loss: 4.2019 - val_accuracy: 0.1422\n",
            "Epoch 49/75\n",
            "20/20 [==============================] - 16s 834ms/step - loss: 2.3481 - accuracy: 0.4180 - val_loss: 4.2914 - val_accuracy: 0.1453\n",
            "Epoch 50/75\n",
            "20/20 [==============================] - 18s 904ms/step - loss: 2.3008 - accuracy: 0.4038 - val_loss: 4.2189 - val_accuracy: 0.1688\n",
            "Epoch 51/75\n",
            "20/20 [==============================] - 16s 824ms/step - loss: 2.3365 - accuracy: 0.3879 - val_loss: 4.0690 - val_accuracy: 0.1547\n",
            "Epoch 52/75\n",
            "20/20 [==============================] - 16s 831ms/step - loss: 2.2362 - accuracy: 0.3676 - val_loss: 4.1854 - val_accuracy: 0.1391\n",
            "Epoch 53/75\n",
            "20/20 [==============================] - 18s 903ms/step - loss: 2.2864 - accuracy: 0.4173 - val_loss: 4.0541 - val_accuracy: 0.1312\n",
            "Epoch 54/75\n",
            "20/20 [==============================] - 17s 860ms/step - loss: 2.2381 - accuracy: 0.4061 - val_loss: 4.1662 - val_accuracy: 0.1672\n",
            "Epoch 55/75\n",
            "20/20 [==============================] - 16s 830ms/step - loss: 2.4604 - accuracy: 0.3857 - val_loss: 4.5228 - val_accuracy: 0.1266\n",
            "Epoch 56/75\n",
            "20/20 [==============================] - 16s 838ms/step - loss: 2.5656 - accuracy: 0.3973 - val_loss: 4.2834 - val_accuracy: 0.1828\n",
            "Epoch 57/75\n",
            "20/20 [==============================] - 17s 891ms/step - loss: 2.1907 - accuracy: 0.4122 - val_loss: 4.1286 - val_accuracy: 0.1641\n",
            "Epoch 58/75\n",
            "20/20 [==============================] - 17s 864ms/step - loss: 2.2147 - accuracy: 0.4307 - val_loss: 4.2867 - val_accuracy: 0.1562\n",
            "Epoch 59/75\n",
            "20/20 [==============================] - 18s 895ms/step - loss: 2.1426 - accuracy: 0.4289 - val_loss: 4.4459 - val_accuracy: 0.1422\n",
            "Epoch 60/75\n",
            "20/20 [==============================] - 17s 842ms/step - loss: 2.3209 - accuracy: 0.3813 - val_loss: 4.2260 - val_accuracy: 0.1469\n",
            "Epoch 61/75\n",
            "20/20 [==============================] - 16s 828ms/step - loss: 2.2491 - accuracy: 0.4338 - val_loss: 4.5687 - val_accuracy: 0.1359\n",
            "Epoch 62/75\n",
            "20/20 [==============================] - 17s 867ms/step - loss: 2.1680 - accuracy: 0.4347 - val_loss: 4.2469 - val_accuracy: 0.1516\n",
            "Epoch 63/75\n",
            "20/20 [==============================] - 17s 861ms/step - loss: 2.1622 - accuracy: 0.4405 - val_loss: 4.3178 - val_accuracy: 0.1359\n",
            "Epoch 64/75\n",
            "20/20 [==============================] - 16s 830ms/step - loss: 2.0996 - accuracy: 0.4830 - val_loss: 4.4670 - val_accuracy: 0.1484\n",
            "Epoch 65/75\n",
            "20/20 [==============================] - 16s 822ms/step - loss: 1.8809 - accuracy: 0.4790 - val_loss: 4.2278 - val_accuracy: 0.1203\n",
            "Epoch 66/75\n",
            "20/20 [==============================] - 17s 875ms/step - loss: 2.0184 - accuracy: 0.4557 - val_loss: 4.3238 - val_accuracy: 0.1375\n",
            "Epoch 67/75\n",
            "20/20 [==============================] - 17s 848ms/step - loss: 2.2914 - accuracy: 0.3786 - val_loss: 4.3490 - val_accuracy: 0.1547\n",
            "Epoch 68/75\n",
            "20/20 [==============================] - 16s 825ms/step - loss: 2.1333 - accuracy: 0.4475 - val_loss: 4.3729 - val_accuracy: 0.1531\n",
            "Epoch 69/75\n",
            "20/20 [==============================] - ETA: 0s - loss: 2.1889 - accuracy: 0.4565"
          ],
          "name": "stdout"
        }
      ]
    },
    {
      "cell_type": "code",
      "metadata": {
        "id": "SfA1SAty3UE2"
      },
      "source": [
        "#model.fit(train_gen, steps_per_epoch=15, \n",
        "                    #epochs=16, validation_data=test_gen, \n",
        "                    #validation_steps=15)"
      ],
      "execution_count": null,
      "outputs": []
    }
  ]
}