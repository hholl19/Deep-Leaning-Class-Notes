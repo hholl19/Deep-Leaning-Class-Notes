{
  "nbformat": 4,
  "nbformat_minor": 0,
  "metadata": {
    "colab": {
      "name": "Applied Deep Learning 2nd Notebook.ipynb",
      "provenance": [],
      "authorship_tag": "ABX9TyO5O2pxtFgywwf/hTGetmbo",
      "include_colab_link": true
    },
    "kernelspec": {
      "name": "python3",
      "display_name": "Python 3"
    },
    "language_info": {
      "name": "python"
    },
    "accelerator": "GPU"
  },
  "cells": [
    {
      "cell_type": "markdown",
      "metadata": {
        "id": "view-in-github",
        "colab_type": "text"
      },
      "source": [
        "<a href=\"https://colab.research.google.com/github/hholl19/Deep-Leaning-Class-Notes/blob/hholl19_added_things/Applied_Deep_Learning_2nd_Notebook.ipynb\" target=\"_parent\"><img src=\"https://colab.research.google.com/assets/colab-badge.svg\" alt=\"Open In Colab\"/></a>"
      ]
    },
    {
      "cell_type": "markdown",
      "metadata": {
        "id": "vDWJK55hHSeI"
      },
      "source": [
        "**Snake Classifier Model Attempt 3**\n",
        "\n",
        "**Hadassah Holl**"
      ]
    },
    {
      "cell_type": "markdown",
      "metadata": {
        "id": "54s1r5k4HfKo"
      },
      "source": [
        "**Load Dependencies**"
      ]
    },
    {
      "cell_type": "code",
      "metadata": {
        "id": "wx49vhXevrcO"
      },
      "source": [
        "import keras\n",
        "import pandas as pd\n",
        "import numpy as np\n",
        "import os\n",
        "import pathlib \n",
        "from pathlib import Path\n",
        "#import cv2\n",
        "#from tqdm import tqdm\n",
        "from keras.models import Sequential\n",
        "from keras.layers import Dropout, Dense, Flatten, Conv2D, MaxPooling2D \n",
        "from keras.layers.normalization import BatchNormalization \n",
        "from keras.optimizers import SGD\n",
        "#from sklearn.model_selection import train_test_split\n",
        "from tensorflow.keras.applications.vgg19 import VGG19\n",
        "\n",
        "from numpy import expand_dims\n",
        "from keras.preprocessing.image import ImageDataGenerator, load_img, img_to_array\n",
        "#from matplotlib import pyplot"
      ],
      "execution_count": 1,
      "outputs": []
    },
    {
      "cell_type": "markdown",
      "metadata": {
        "id": "lDrjAvpyHyuV"
      },
      "source": [
        "**Mounted Google Drive and wrote in Path directly to my Google Drive to Gain Access to full Dataset**"
      ]
    },
    {
      "cell_type": "code",
      "metadata": {
        "id": "c4EJpjIYxTsj",
        "colab": {
          "base_uri": "https://localhost:8080/"
        },
        "outputId": "98140cbd-ce0b-4b1e-992a-684f81d540a2"
      },
      "source": [
        "from google.colab import drive\n",
        "drive.mount('/content/drive')"
      ],
      "execution_count": 2,
      "outputs": [
        {
          "output_type": "stream",
          "text": [
            "Mounted at /content/drive\n"
          ],
          "name": "stdout"
        }
      ]
    },
    {
      "cell_type": "code",
      "metadata": {
        "colab": {
          "base_uri": "https://localhost:8080/"
        },
        "id": "EI3pK48OK9b4",
        "outputId": "832310bd-459b-425b-9ba2-a333ef2c8aaa"
      },
      "source": [
        "file_path= '/content/drive/MyDrive/Kaggle-Applied Deep Learning Project/Inputs'\n",
        "folders = os.listdir(file_path)\n",
        "print(folders)"
      ],
      "execution_count": 3,
      "outputs": [
        {
          "output_type": "stream",
          "text": [
            "['test.csv', 'train.csv', 'train', 'test']\n"
          ],
          "name": "stdout"
        }
      ]
    },
    {
      "cell_type": "code",
      "metadata": {
        "colab": {
          "base_uri": "https://localhost:8080/",
          "height": 204
        },
        "id": "MB-J5N4Y1nnC",
        "outputId": "13935a8b-4624-4d2e-bdb7-ba3d1cba99a5"
      },
      "source": [
        "df_train= pd.read_csv('/content/drive/MyDrive/Kaggle-Applied Deep Learning Project/Inputs/train.csv')\n",
        "df_train.head()"
      ],
      "execution_count": 4,
      "outputs": [
        {
          "output_type": "execute_result",
          "data": {
            "text/html": [
              "<div>\n",
              "<style scoped>\n",
              "    .dataframe tbody tr th:only-of-type {\n",
              "        vertical-align: middle;\n",
              "    }\n",
              "\n",
              "    .dataframe tbody tr th {\n",
              "        vertical-align: top;\n",
              "    }\n",
              "\n",
              "    .dataframe thead th {\n",
              "        text-align: right;\n",
              "    }\n",
              "</style>\n",
              "<table border=\"1\" class=\"dataframe\">\n",
              "  <thead>\n",
              "    <tr style=\"text-align: right;\">\n",
              "      <th></th>\n",
              "      <th>image_id</th>\n",
              "      <th>breed</th>\n",
              "    </tr>\n",
              "  </thead>\n",
              "  <tbody>\n",
              "    <tr>\n",
              "      <th>0</th>\n",
              "      <td>a8b3ad1dde</td>\n",
              "      <td>nerodia-erythrogaster</td>\n",
              "    </tr>\n",
              "    <tr>\n",
              "      <th>1</th>\n",
              "      <td>8b492b973d</td>\n",
              "      <td>pantherophis-vulpinus</td>\n",
              "    </tr>\n",
              "    <tr>\n",
              "      <th>2</th>\n",
              "      <td>929b99ea92</td>\n",
              "      <td>thamnophis-sirtalis</td>\n",
              "    </tr>\n",
              "    <tr>\n",
              "      <th>3</th>\n",
              "      <td>bbac7385e2</td>\n",
              "      <td>pantherophis-obsoletus</td>\n",
              "    </tr>\n",
              "    <tr>\n",
              "      <th>4</th>\n",
              "      <td>ef776b1488</td>\n",
              "      <td>agkistrodon-contortrix</td>\n",
              "    </tr>\n",
              "  </tbody>\n",
              "</table>\n",
              "</div>"
            ],
            "text/plain": [
              "     image_id                   breed\n",
              "0  a8b3ad1dde   nerodia-erythrogaster\n",
              "1  8b492b973d   pantherophis-vulpinus\n",
              "2  929b99ea92     thamnophis-sirtalis\n",
              "3  bbac7385e2  pantherophis-obsoletus\n",
              "4  ef776b1488  agkistrodon-contortrix"
            ]
          },
          "metadata": {
            "tags": []
          },
          "execution_count": 4
        }
      ]
    },
    {
      "cell_type": "markdown",
      "metadata": {
        "id": "45BFbQbMIcHE"
      },
      "source": [
        "**Added in image file paths to pull images into CSV for easier processing.**"
      ]
    },
    {
      "cell_type": "code",
      "metadata": {
        "colab": {
          "base_uri": "https://localhost:8080/",
          "height": 204
        },
        "id": "PJd-FQqh1yBp",
        "outputId": "ad280855-ea16-41a9-f25e-4d77eb241dc1"
      },
      "source": [
        "df_train[\"image_id\"]=\"/content/drive/MyDrive/Kaggle-Applied Deep Learning Project/Inputs/train/\" + df_train[\"image_id\"] + \".jpg\"\n",
        "df_train.head()"
      ],
      "execution_count": 5,
      "outputs": [
        {
          "output_type": "execute_result",
          "data": {
            "text/html": [
              "<div>\n",
              "<style scoped>\n",
              "    .dataframe tbody tr th:only-of-type {\n",
              "        vertical-align: middle;\n",
              "    }\n",
              "\n",
              "    .dataframe tbody tr th {\n",
              "        vertical-align: top;\n",
              "    }\n",
              "\n",
              "    .dataframe thead th {\n",
              "        text-align: right;\n",
              "    }\n",
              "</style>\n",
              "<table border=\"1\" class=\"dataframe\">\n",
              "  <thead>\n",
              "    <tr style=\"text-align: right;\">\n",
              "      <th></th>\n",
              "      <th>image_id</th>\n",
              "      <th>breed</th>\n",
              "    </tr>\n",
              "  </thead>\n",
              "  <tbody>\n",
              "    <tr>\n",
              "      <th>0</th>\n",
              "      <td>/content/drive/MyDrive/Kaggle-Applied Deep Lea...</td>\n",
              "      <td>nerodia-erythrogaster</td>\n",
              "    </tr>\n",
              "    <tr>\n",
              "      <th>1</th>\n",
              "      <td>/content/drive/MyDrive/Kaggle-Applied Deep Lea...</td>\n",
              "      <td>pantherophis-vulpinus</td>\n",
              "    </tr>\n",
              "    <tr>\n",
              "      <th>2</th>\n",
              "      <td>/content/drive/MyDrive/Kaggle-Applied Deep Lea...</td>\n",
              "      <td>thamnophis-sirtalis</td>\n",
              "    </tr>\n",
              "    <tr>\n",
              "      <th>3</th>\n",
              "      <td>/content/drive/MyDrive/Kaggle-Applied Deep Lea...</td>\n",
              "      <td>pantherophis-obsoletus</td>\n",
              "    </tr>\n",
              "    <tr>\n",
              "      <th>4</th>\n",
              "      <td>/content/drive/MyDrive/Kaggle-Applied Deep Lea...</td>\n",
              "      <td>agkistrodon-contortrix</td>\n",
              "    </tr>\n",
              "  </tbody>\n",
              "</table>\n",
              "</div>"
            ],
            "text/plain": [
              "                                            image_id                   breed\n",
              "0  /content/drive/MyDrive/Kaggle-Applied Deep Lea...   nerodia-erythrogaster\n",
              "1  /content/drive/MyDrive/Kaggle-Applied Deep Lea...   pantherophis-vulpinus\n",
              "2  /content/drive/MyDrive/Kaggle-Applied Deep Lea...     thamnophis-sirtalis\n",
              "3  /content/drive/MyDrive/Kaggle-Applied Deep Lea...  pantherophis-obsoletus\n",
              "4  /content/drive/MyDrive/Kaggle-Applied Deep Lea...  agkistrodon-contortrix"
            ]
          },
          "metadata": {
            "tags": []
          },
          "execution_count": 5
        }
      ]
    },
    {
      "cell_type": "markdown",
      "metadata": {
        "id": "b1D52vqZNVyf"
      },
      "source": [
        "**Load Pre-trained VGG19 Model**"
      ]
    },
    {
      "cell_type": "code",
      "metadata": {
        "id": "HgyZB9ONzcjL",
        "colab": {
          "base_uri": "https://localhost:8080/"
        },
        "outputId": "a84adb9b-6be7-4db8-e95b-0d12673264e5"
      },
      "source": [
        "vgg19 = VGG19(include_top=False,\n",
        "              weights='imagenet',\n",
        "              input_shape=(224,224,3),\n",
        "              pooling=None)"
      ],
      "execution_count": 6,
      "outputs": [
        {
          "output_type": "stream",
          "text": [
            "Downloading data from https://storage.googleapis.com/tensorflow/keras-applications/vgg19/vgg19_weights_tf_dim_ordering_tf_kernels_notop.h5\n",
            "80142336/80134624 [==============================] - 1s 0us/step\n"
          ],
          "name": "stdout"
        }
      ]
    },
    {
      "cell_type": "markdown",
      "metadata": {
        "id": "Y9ixaV-9PFDO"
      },
      "source": [
        "**Freeze the main model layers**"
      ]
    },
    {
      "cell_type": "code",
      "metadata": {
        "id": "SmC5lWXa2G0L"
      },
      "source": [
        "for layer in vgg19.layers:\n",
        "    layer.trainable = False"
      ],
      "execution_count": 7,
      "outputs": []
    },
    {
      "cell_type": "markdown",
      "metadata": {
        "id": "Zo-VGnFzPcII"
      },
      "source": [
        "*Started the training model, loaded in the pre-trained vgg19, and added some additional layers per class example.*"
      ]
    },
    {
      "cell_type": "code",
      "metadata": {
        "id": "2rcKHjIU2Lfo"
      },
      "source": [
        "model = Sequential()\n",
        "model.add(vgg19)\n",
        "model.add(BatchNormalization())\n",
        " \n",
        "model.add(Flatten(name='flattened'))\n",
        "model.add(Dropout(0.3, name='dropout'))\n",
        "model.add(Dense(35, activation='softmax', name='predictions'))"
      ],
      "execution_count": 8,
      "outputs": []
    },
    {
      "cell_type": "code",
      "metadata": {
        "id": "mMKXqrQL2RvQ"
      },
      "source": [
        "model.compile(optimizer='adam', loss='categorical_crossentropy', metrics=['accuracy'])"
      ],
      "execution_count": 9,
      "outputs": []
    },
    {
      "cell_type": "markdown",
      "metadata": {
        "id": "EHzDFjJNQJUG"
      },
      "source": [
        "**Adding Data Augmentation and Pre-processing together for Transfer Learning.**"
      ]
    },
    {
      "cell_type": "code",
      "metadata": {
        "id": "nDU3SMbJ2bjx"
      },
      "source": [
        "train_datagen = ImageDataGenerator(rescale=1/255,\n",
        "        validation_split=0.2,\n",
        "        data_format='channels_last',\n",
        "        rotation_range=30,\n",
        "        horizontal_flip=True,\n",
        "        fill_mode='reflect') \n",
        "test_datagen = ImageDataGenerator(\n",
        "        rescale=1.0/255,\n",
        "        data_format='channels_last')"
      ],
      "execution_count": 10,
      "outputs": []
    },
    {
      "cell_type": "code",
      "metadata": {
        "colab": {
          "base_uri": "https://localhost:8080/"
        },
        "id": "-hyRbuke3JFj",
        "outputId": "69ddb98d-003f-4c5c-95c0-ba35a9a0d26b"
      },
      "source": [
        "train_gen = train_datagen.flow_from_dataframe(\n",
        "        dataframe=df_train,\n",
        "        directory=\"/content/drive/MyDrive/Kaggle-Applied Deep Learning Project/Inputs/train/\",\n",
        "        x_col=\"image_id\",\n",
        "        y_col=\"breed\",\n",
        "        subset=\"training\",\n",
        "        batch_size=32,\n",
        "        seed=123,\n",
        "        shuffle=True,\n",
        "        color_mode=\"rgb\",\n",
        "        class_mode=\"categorical\", \n",
        "        target_size=(224,224)) "
      ],
      "execution_count": 11,
      "outputs": [
        {
          "output_type": "stream",
          "text": [
            "Found 4407 validated image filenames belonging to 35 classes.\n"
          ],
          "name": "stdout"
        }
      ]
    },
    {
      "cell_type": "code",
      "metadata": {
        "colab": {
          "base_uri": "https://localhost:8080/"
        },
        "id": "_-yDwdhc3NfC",
        "outputId": "651f46da-1555-4776-9352-e2fb7d3df948"
      },
      "source": [
        "test_gen = train_datagen.flow_from_dataframe(\n",
        "        dataframe=df_train,\n",
        "        directory=\"/content/drive/MyDrive/Kaggle-Applied Deep Learning Project/Inputs/train/\",\n",
        "        x_col=\"image_id\",\n",
        "        y_col=\"breed\",\n",
        "        subset=\"validation\",\n",
        "        batch_size=32,\n",
        "        seed=123,\n",
        "        shuffle=True,\n",
        "        color_mode=\"rgb\",\n",
        "        class_mode=\"categorical\", \n",
        "        target_size=(224,224))"
      ],
      "execution_count": 12,
      "outputs": [
        {
          "output_type": "stream",
          "text": [
            "Found 1101 validated image filenames belonging to 35 classes.\n"
          ],
          "name": "stdout"
        }
      ]
    },
    {
      "cell_type": "markdown",
      "metadata": {
        "id": "kK4v218kQXjR"
      },
      "source": [
        "**Training the Model**"
      ]
    },
    {
      "cell_type": "code",
      "metadata": {
        "colab": {
          "base_uri": "https://localhost:8080/"
        },
        "id": "ApHrAXo_Gjix",
        "outputId": "ba3866c5-f707-4686-e863-bef53ca13ab5"
      },
      "source": [
        "model.fit(train_gen, steps_per_epoch=20, \n",
        "                    epochs=75, validation_data=test_gen, \n",
        "                    validation_steps=20)"
      ],
      "execution_count": null,
      "outputs": [
        {
          "output_type": "stream",
          "text": [
            "Epoch 1/75\n",
            "20/20 [==============================] - ETA: 0s - loss: 5.4776 - accuracy: 0.0813 "
          ],
          "name": "stdout"
        }
      ]
    },
    {
      "cell_type": "code",
      "metadata": {
        "id": "SfA1SAty3UE2"
      },
      "source": [
        "#model.fit(train_gen, steps_per_epoch=15, \n",
        "                    #epochs=16, validation_data=test_gen, \n",
        "                    #validation_steps=15)"
      ],
      "execution_count": null,
      "outputs": []
    }
  ]
}