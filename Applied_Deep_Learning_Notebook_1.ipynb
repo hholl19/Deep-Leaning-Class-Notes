{
  "nbformat": 4,
  "nbformat_minor": 0,
  "metadata": {
    "colab": {
      "name": "Applied Deep Learning Notebook 1.ipynb",
      "provenance": [],
      "mount_file_id": "18ycLou3zWe8T0yLvDfS-J9EQxuAzX2eW",
      "authorship_tag": "ABX9TyOm/qWrXQKqnlLCn9eriGaA",
      "include_colab_link": true
    },
    "kernelspec": {
      "name": "python3",
      "display_name": "Python 3"
    },
    "language_info": {
      "name": "python"
    }
  },
  "cells": [
    {
      "cell_type": "markdown",
      "metadata": {
        "id": "view-in-github",
        "colab_type": "text"
      },
      "source": [
        "<a href=\"https://colab.research.google.com/github/hholl19/Deep-Leaning-Class-Notes/blob/hholl19_added_things/Applied_Deep_Learning_Notebook_1.ipynb\" target=\"_parent\"><img src=\"https://colab.research.google.com/assets/colab-badge.svg\" alt=\"Open In Colab\"/></a>"
      ]
    },
    {
      "cell_type": "code",
      "metadata": {
        "id": "KMMuWpJapjJQ"
      },
      "source": [
        "import keras\n",
        "import pandas as pd\n",
        "import numpy as np\n",
        "import os\n",
        "import pathlib \n",
        "from pathlib import Path\n",
        "import cv2\n",
        "from tqdm import tqdm\n",
        "from keras.models import Sequential\n",
        "from keras.layers import Dropout, Dense, Flatten, Conv2D, MaxPooling2D \n",
        "from keras.layers.normalization import BatchNormalization \n",
        "from keras.optimizers import SGD\n",
        "from sklearn.model_selection import train_test_split\n",
        "\n",
        "from numpy import expand_dims\n",
        "from keras.preprocessing.image import ImageDataGenerator, load_img, img_to_array\n",
        "from matplotlib import pyplot"
      ],
      "execution_count": 1,
      "outputs": []
    },
    {
      "cell_type": "markdown",
      "metadata": {
        "id": "yGOYlk5fGD5k"
      },
      "source": [
        "**Attempts to add dataset with Kaggle API and Google Colab. Main issue was unable to pull image files for model.**"
      ]
    },
    {
      "cell_type": "code",
      "metadata": {
        "colab": {
          "base_uri": "https://localhost:8080/"
        },
        "id": "Ul6-O_Gyygxy",
        "outputId": "d3449556-a857-4d66-c7f6-5957014640be"
      },
      "source": [
        "#!mkdir ~/.kaggle #create the .kaggle folder in your root directory\n",
        "#!echo '{\"username\":\"hholl19\",\"key\":\"5209baad90fe207be2b471380de09e89\"}' > ~/.kaggle/kaggle.json #write kaggle API credentials to kaggle.json\n",
        "#!chmod 600 ~/.kaggle/kaggle.json  # set permissions\n",
        "#!pip install kaggle "
      ],
      "execution_count": null,
      "outputs": [
        {
          "output_type": "stream",
          "text": [
            "mkdir: cannot create directory ‘/root/.kaggle’: File exists\n",
            "Requirement already satisfied: kaggle in /usr/local/lib/python3.7/dist-packages (1.5.12)\n",
            "Requirement already satisfied: python-dateutil in /usr/local/lib/python3.7/dist-packages (from kaggle) (2.8.1)\n",
            "Requirement already satisfied: python-slugify in /usr/local/lib/python3.7/dist-packages (from kaggle) (5.0.2)\n",
            "Requirement already satisfied: urllib3 in /usr/local/lib/python3.7/dist-packages (from kaggle) (1.24.3)\n",
            "Requirement already satisfied: six>=1.10 in /usr/local/lib/python3.7/dist-packages (from kaggle) (1.15.0)\n",
            "Requirement already satisfied: tqdm in /usr/local/lib/python3.7/dist-packages (from kaggle) (4.41.1)\n",
            "Requirement already satisfied: certifi in /usr/local/lib/python3.7/dist-packages (from kaggle) (2021.5.30)\n",
            "Requirement already satisfied: requests in /usr/local/lib/python3.7/dist-packages (from kaggle) (2.23.0)\n",
            "Requirement already satisfied: text-unidecode>=1.3 in /usr/local/lib/python3.7/dist-packages (from python-slugify->kaggle) (1.3)\n",
            "Requirement already satisfied: idna<3,>=2.5 in /usr/local/lib/python3.7/dist-packages (from requests->kaggle) (2.10)\n",
            "Requirement already satisfied: chardet<4,>=3.0.2 in /usr/local/lib/python3.7/dist-packages (from requests->kaggle) (3.0.4)\n"
          ],
          "name": "stdout"
        }
      ]
    },
    {
      "cell_type": "code",
      "metadata": {
        "colab": {
          "base_uri": "https://localhost:8080/",
          "height": 35
        },
        "id": "6I6NwwuyXmC9",
        "outputId": "b920026d-43c3-46dc-f354-1b7d9ff635a8"
      },
      "source": [
        "#os.getcwd()"
      ],
      "execution_count": null,
      "outputs": [
        {
          "output_type": "execute_result",
          "data": {
            "application/vnd.google.colaboratory.intrinsic+json": {
              "type": "string"
            },
            "text/plain": [
              "'/content'"
            ]
          },
          "metadata": {
            "tags": []
          },
          "execution_count": 5
        }
      ]
    },
    {
      "cell_type": "code",
      "metadata": {
        "colab": {
          "base_uri": "https://localhost:8080/",
          "height": 35
        },
        "id": "R65VFaYlZPKw",
        "outputId": "d2506939-1439-420a-c28f-0d485476a383"
      },
      "source": [
        "#pwd"
      ],
      "execution_count": null,
      "outputs": [
        {
          "output_type": "execute_result",
          "data": {
            "application/vnd.google.colaboratory.intrinsic+json": {
              "type": "string"
            },
            "text/plain": [
              "'/content'"
            ]
          },
          "metadata": {
            "tags": []
          },
          "execution_count": 9
        }
      ]
    },
    {
      "cell_type": "code",
      "metadata": {
        "colab": {
          "base_uri": "https://localhost:8080/"
        },
        "id": "bo0WM_upKox0",
        "outputId": "78c17c4f-7080-48a7-af06-12ce4a652b6d"
      },
      "source": [
        "#!kaggle datasets download -d {hackerearths-snakes-in-the-hood} -p /content [-w]\n",
        "#!unzip /content/hackerearths-snakes-in-the-hood.zip -d review"
      ],
      "execution_count": null,
      "outputs": [
        {
          "output_type": "stream",
          "text": [
            "404 - Not Found\n",
            "Archive:  /content/hackerearths-snakes-in-the-hood.zip\n",
            "replace review/dataset/test.csv? [y]es, [n]o, [A]ll, [N]one, [r]ename: "
          ],
          "name": "stdout"
        }
      ]
    },
    {
      "cell_type": "markdown",
      "metadata": {
        "id": "5uFTbfYihg5W"
      },
      "source": [
        "**Wrote in Path directly to my Google Drive to Gain Access to full Dataset.**"
      ]
    },
    {
      "cell_type": "code",
      "metadata": {
        "colab": {
          "base_uri": "https://localhost:8080/"
        },
        "id": "EI3pK48OK9b4",
        "outputId": "5d43a7e0-5e32-453e-a868-54245206acfb"
      },
      "source": [
        "file_path= '/content/drive/MyDrive/Kaggle-Applied Deep Learning Project/Inputs'\n",
        "folders = os.listdir(file_path)\n",
        "print(folders)"
      ],
      "execution_count": 2,
      "outputs": [
        {
          "output_type": "stream",
          "text": [
            "['test.csv', 'train.csv', 'train', 'test']\n"
          ],
          "name": "stdout"
        }
      ]
    },
    {
      "cell_type": "code",
      "metadata": {
        "colab": {
          "base_uri": "https://localhost:8080/",
          "height": 204
        },
        "id": "FRuQPQRxsqBa",
        "outputId": "457c5933-629e-4043-d716-e48625366f6c"
      },
      "source": [
        "df_train= pd.read_csv('/content/drive/MyDrive/Kaggle-Applied Deep Learning Project/Inputs/train.csv')\n",
        "df_train.head()"
      ],
      "execution_count": 3,
      "outputs": [
        {
          "output_type": "execute_result",
          "data": {
            "text/html": [
              "<div>\n",
              "<style scoped>\n",
              "    .dataframe tbody tr th:only-of-type {\n",
              "        vertical-align: middle;\n",
              "    }\n",
              "\n",
              "    .dataframe tbody tr th {\n",
              "        vertical-align: top;\n",
              "    }\n",
              "\n",
              "    .dataframe thead th {\n",
              "        text-align: right;\n",
              "    }\n",
              "</style>\n",
              "<table border=\"1\" class=\"dataframe\">\n",
              "  <thead>\n",
              "    <tr style=\"text-align: right;\">\n",
              "      <th></th>\n",
              "      <th>image_id</th>\n",
              "      <th>breed</th>\n",
              "    </tr>\n",
              "  </thead>\n",
              "  <tbody>\n",
              "    <tr>\n",
              "      <th>0</th>\n",
              "      <td>a8b3ad1dde</td>\n",
              "      <td>nerodia-erythrogaster</td>\n",
              "    </tr>\n",
              "    <tr>\n",
              "      <th>1</th>\n",
              "      <td>8b492b973d</td>\n",
              "      <td>pantherophis-vulpinus</td>\n",
              "    </tr>\n",
              "    <tr>\n",
              "      <th>2</th>\n",
              "      <td>929b99ea92</td>\n",
              "      <td>thamnophis-sirtalis</td>\n",
              "    </tr>\n",
              "    <tr>\n",
              "      <th>3</th>\n",
              "      <td>bbac7385e2</td>\n",
              "      <td>pantherophis-obsoletus</td>\n",
              "    </tr>\n",
              "    <tr>\n",
              "      <th>4</th>\n",
              "      <td>ef776b1488</td>\n",
              "      <td>agkistrodon-contortrix</td>\n",
              "    </tr>\n",
              "  </tbody>\n",
              "</table>\n",
              "</div>"
            ],
            "text/plain": [
              "     image_id                   breed\n",
              "0  a8b3ad1dde   nerodia-erythrogaster\n",
              "1  8b492b973d   pantherophis-vulpinus\n",
              "2  929b99ea92     thamnophis-sirtalis\n",
              "3  bbac7385e2  pantherophis-obsoletus\n",
              "4  ef776b1488  agkistrodon-contortrix"
            ]
          },
          "metadata": {
            "tags": []
          },
          "execution_count": 3
        }
      ]
    },
    {
      "cell_type": "markdown",
      "metadata": {
        "id": "ywUu7YK_Fwoi"
      },
      "source": [
        "The test set doesn't have any labels so we can't determine if our answers are correct or not. As a result, we will be splitting this dataset. "
      ]
    },
    {
      "cell_type": "code",
      "metadata": {
        "colab": {
          "base_uri": "https://localhost:8080/"
        },
        "id": "uTltSTxrHVPJ",
        "outputId": "02ffb512-caf0-4097-fdef-68fa5b4137f6"
      },
      "source": [
        "df_train.shape"
      ],
      "execution_count": 4,
      "outputs": [
        {
          "output_type": "execute_result",
          "data": {
            "text/plain": [
              "(5508, 2)"
            ]
          },
          "metadata": {
            "tags": []
          },
          "execution_count": 4
        }
      ]
    },
    {
      "cell_type": "code",
      "metadata": {
        "id": "5_Yl3qT2vumh",
        "colab": {
          "base_uri": "https://localhost:8080/"
        },
        "outputId": "f53bed06-6624-4efc-96be-9e6fc16adbf6"
      },
      "source": [
        "df_train.nunique()"
      ],
      "execution_count": 5,
      "outputs": [
        {
          "output_type": "execute_result",
          "data": {
            "text/plain": [
              "image_id    5508\n",
              "breed         35\n",
              "dtype: int64"
            ]
          },
          "metadata": {
            "tags": []
          },
          "execution_count": 5
        }
      ]
    },
    {
      "cell_type": "code",
      "metadata": {
        "id": "bBY2ww5nv09j",
        "colab": {
          "base_uri": "https://localhost:8080/"
        },
        "outputId": "5c87d6ce-ce56-463e-f4ca-978d9ba6244b"
      },
      "source": [
        "df_train['breed'].value_counts()"
      ],
      "execution_count": 6,
      "outputs": [
        {
          "output_type": "execute_result",
          "data": {
            "text/plain": [
              "thamnophis-sirtalis            509\n",
              "storeria-dekayi                412\n",
              "pantherophis-obsoletus         366\n",
              "crotalus-atrox                 354\n",
              "pituophis-catenifer            298\n",
              "nerodia-sipedon                259\n",
              "agkistrodon-contortrix         206\n",
              "lampropeltis-triangulum        197\n",
              "diadophis-punctatus            184\n",
              "pantherophis-alleghaniensis    172\n",
              "nerodia-erythrogaster          171\n",
              "lampropeltis-californiae       166\n",
              "opheodrys-aestivus             152\n",
              "agkistrodon-piscivorus         147\n",
              "crotalus-horridus              142\n",
              "coluber-constrictor            129\n",
              "heterodon-platirhinos          118\n",
              "thamnophis-proximus            112\n",
              "nerodia-rhombifer              104\n",
              "thamnophis-radix               100\n",
              "pantherophis-guttatus          100\n",
              "haldea-striatula                98\n",
              "pantherophis-spiloides          92\n",
              "rhinocheilus-lecontei           91\n",
              "storeria-occipitomaculata       87\n",
              "crotalus-viridis                83\n",
              "masticophis-flagellum           83\n",
              "thamnophis-marcianus            82\n",
              "crotalus-ruber                  77\n",
              "nerodia-fasciata                74\n",
              "pantherophis-vulpinus           73\n",
              "natrix-natrix                   72\n",
              "thamnophis-elegans              69\n",
              "pantherophis-emoryi             66\n",
              "crotalus-scutulatus             63\n",
              "Name: breed, dtype: int64"
            ]
          },
          "metadata": {
            "tags": []
          },
          "execution_count": 6
        }
      ]
    },
    {
      "cell_type": "markdown",
      "metadata": {
        "id": "CdILNGbeNNOC"
      },
      "source": [
        "*Added in image file paths to pull images into CSV for easier processing.*"
      ]
    },
    {
      "cell_type": "code",
      "metadata": {
        "colab": {
          "base_uri": "https://localhost:8080/",
          "height": 204
        },
        "id": "Sd03L-CpwQB0",
        "outputId": "a476638e-48b7-48bc-af71-a23234e25808"
      },
      "source": [
        "df_train[\"image_id\"]=\"/content/drive/MyDrive/Kaggle-Applied Deep Learning Project/Inputs/train/\" + df_train[\"image_id\"] + \".jpg\"\n",
        "df_train.head()"
      ],
      "execution_count": 11,
      "outputs": [
        {
          "output_type": "execute_result",
          "data": {
            "text/html": [
              "<div>\n",
              "<style scoped>\n",
              "    .dataframe tbody tr th:only-of-type {\n",
              "        vertical-align: middle;\n",
              "    }\n",
              "\n",
              "    .dataframe tbody tr th {\n",
              "        vertical-align: top;\n",
              "    }\n",
              "\n",
              "    .dataframe thead th {\n",
              "        text-align: right;\n",
              "    }\n",
              "</style>\n",
              "<table border=\"1\" class=\"dataframe\">\n",
              "  <thead>\n",
              "    <tr style=\"text-align: right;\">\n",
              "      <th></th>\n",
              "      <th>image_id</th>\n",
              "      <th>breed</th>\n",
              "    </tr>\n",
              "  </thead>\n",
              "  <tbody>\n",
              "    <tr>\n",
              "      <th>0</th>\n",
              "      <td>/content/drive/MyDrive/Kaggle-Applied Deep Lea...</td>\n",
              "      <td>nerodia-erythrogaster</td>\n",
              "    </tr>\n",
              "    <tr>\n",
              "      <th>1</th>\n",
              "      <td>/content/drive/MyDrive/Kaggle-Applied Deep Lea...</td>\n",
              "      <td>pantherophis-vulpinus</td>\n",
              "    </tr>\n",
              "    <tr>\n",
              "      <th>2</th>\n",
              "      <td>/content/drive/MyDrive/Kaggle-Applied Deep Lea...</td>\n",
              "      <td>thamnophis-sirtalis</td>\n",
              "    </tr>\n",
              "    <tr>\n",
              "      <th>3</th>\n",
              "      <td>/content/drive/MyDrive/Kaggle-Applied Deep Lea...</td>\n",
              "      <td>pantherophis-obsoletus</td>\n",
              "    </tr>\n",
              "    <tr>\n",
              "      <th>4</th>\n",
              "      <td>/content/drive/MyDrive/Kaggle-Applied Deep Lea...</td>\n",
              "      <td>agkistrodon-contortrix</td>\n",
              "    </tr>\n",
              "  </tbody>\n",
              "</table>\n",
              "</div>"
            ],
            "text/plain": [
              "                                            image_id                   breed\n",
              "0  /content/drive/MyDrive/Kaggle-Applied Deep Lea...   nerodia-erythrogaster\n",
              "1  /content/drive/MyDrive/Kaggle-Applied Deep Lea...   pantherophis-vulpinus\n",
              "2  /content/drive/MyDrive/Kaggle-Applied Deep Lea...     thamnophis-sirtalis\n",
              "3  /content/drive/MyDrive/Kaggle-Applied Deep Lea...  pantherophis-obsoletus\n",
              "4  /content/drive/MyDrive/Kaggle-Applied Deep Lea...  agkistrodon-contortrix"
            ]
          },
          "metadata": {
            "tags": []
          },
          "execution_count": 11
        }
      ]
    },
    {
      "cell_type": "code",
      "metadata": {
        "id": "hX5mpdq_tiGy"
      },
      "source": [
        "train_datagen = ImageDataGenerator(rescale=1/255,\n",
        "        validation_split=0.2,\n",
        "        data_format='channels_last',\n",
        "        rotation_range=30,\n",
        "        horizontal_flip=True,\n",
        "        fill_mode='reflect') \n",
        "test_datagen = ImageDataGenerator(\n",
        "    rescale=1.0/255,\n",
        "    data_format='channels_last')"
      ],
      "execution_count": 12,
      "outputs": []
    },
    {
      "cell_type": "code",
      "metadata": {
        "colab": {
          "base_uri": "https://localhost:8080/"
        },
        "id": "hdagnOKOuMFl",
        "outputId": "c36727c8-a92c-45f1-b4e0-400d52afa2f1"
      },
      "source": [
        "train_gen = train_datagen.flow_from_dataframe(\n",
        "        dataframe=df_train,\n",
        "        directory=\"/content/drive/MyDrive/Kaggle-Applied Deep Learning Project/Inputs/train/\",\n",
        "        x_col=\"image_id\",\n",
        "        y_col=\"breed\",\n",
        "        subset=\"training\",\n",
        "        batch_size=32,\n",
        "        seed=123,\n",
        "        shuffle=True,\n",
        "        color_mode=\"rgb\",\n",
        "        class_mode=\"categorical\", # this does the work of encoding\n",
        "        target_size=(224,224)) # Change acc to model requirements"
      ],
      "execution_count": 13,
      "outputs": [
        {
          "output_type": "stream",
          "text": [
            "Found 4407 validated image filenames belonging to 35 classes.\n"
          ],
          "name": "stdout"
        }
      ]
    },
    {
      "cell_type": "code",
      "metadata": {
        "colab": {
          "base_uri": "https://localhost:8080/"
        },
        "id": "Lce-BWjeu_hD",
        "outputId": "4fb3cf24-dafc-41e8-da5d-7c2661ca8571"
      },
      "source": [
        "test_gen = train_datagen.flow_from_dataframe(\n",
        "        dataframe=df_train,\n",
        "        directory=\"/content/drive/MyDrive/Kaggle-Applied Deep Learning Project/Inputs/train/\",\n",
        "        x_col=\"image_id\",\n",
        "        y_col=\"breed\",\n",
        "        subset=\"validation\",\n",
        "        batch_size=32,\n",
        "        seed=123,\n",
        "        shuffle=True,\n",
        "        color_mode=\"rgb\",\n",
        "        class_mode=\"categorical\", # this does the work of encoding\n",
        "        target_size=(224,224))"
      ],
      "execution_count": 14,
      "outputs": [
        {
          "output_type": "stream",
          "text": [
            "Found 1101 validated image filenames belonging to 35 classes.\n"
          ],
          "name": "stdout"
        }
      ]
    },
    {
      "cell_type": "markdown",
      "metadata": {
        "id": "VmRocdrxL_rz"
      },
      "source": [
        "**Building out the Model->Used Alexnet structure for Model**\n"
      ]
    },
    {
      "cell_type": "code",
      "metadata": {
        "id": "55TlkqZiKhCc"
      },
      "source": [
        "model = Sequential()\n",
        "\n",
        "model.add(Conv2D(96, kernel_size=(11, 11), strides=(4, 4), activation='relu', input_shape=(224, 224, 3)))\n",
        "model.add(MaxPooling2D(pool_size=(3, 3), strides=(2, 2)))\n",
        "model.add(BatchNormalization())\n",
        "\n",
        "model.add(Conv2D(256, kernel_size=(5, 5), activation='relu'))\n",
        "model.add(MaxPooling2D(pool_size=(3, 3), strides=(2, 2)))\n",
        "model.add(BatchNormalization())\n",
        "\n",
        "model.add(Conv2D(256, kernel_size=(3, 3), activation='relu'))\n",
        "model.add(Conv2D(384, kernel_size=(3, 3), activation='relu'))\n",
        "model.add(Conv2D(384, kernel_size=(3, 3), activation='relu'))\n",
        "model.add(MaxPooling2D(pool_size=(3, 3), strides=(2, 2)))\n",
        "model.add(BatchNormalization())\n",
        "\n",
        "model.add(Flatten())\n",
        "model.add(Dense(4096, activation='tanh'))\n",
        "model.add(Dropout(0.5))\n",
        "model.add(Dense(4096, activation='tanh'))\n",
        "model.add(Dropout(0.5))\n",
        "\n",
        "model.add(Dense(35, activation='softmax'))"
      ],
      "execution_count": 17,
      "outputs": []
    },
    {
      "cell_type": "code",
      "metadata": {
        "colab": {
          "base_uri": "https://localhost:8080/"
        },
        "id": "mLB_8zWZNlkg",
        "outputId": "b0a1ed28-0754-43d3-a5ba-b765c7451e1b"
      },
      "source": [
        "model.summary()"
      ],
      "execution_count": 18,
      "outputs": [
        {
          "output_type": "stream",
          "text": [
            "Model: \"sequential\"\n",
            "_________________________________________________________________\n",
            "Layer (type)                 Output Shape              Param #   \n",
            "=================================================================\n",
            "conv2d (Conv2D)              (None, 54, 54, 96)        34944     \n",
            "_________________________________________________________________\n",
            "max_pooling2d (MaxPooling2D) (None, 26, 26, 96)        0         \n",
            "_________________________________________________________________\n",
            "batch_normalization (BatchNo (None, 26, 26, 96)        384       \n",
            "_________________________________________________________________\n",
            "conv2d_1 (Conv2D)            (None, 22, 22, 256)       614656    \n",
            "_________________________________________________________________\n",
            "max_pooling2d_1 (MaxPooling2 (None, 10, 10, 256)       0         \n",
            "_________________________________________________________________\n",
            "batch_normalization_1 (Batch (None, 10, 10, 256)       1024      \n",
            "_________________________________________________________________\n",
            "conv2d_2 (Conv2D)            (None, 8, 8, 256)         590080    \n",
            "_________________________________________________________________\n",
            "conv2d_3 (Conv2D)            (None, 6, 6, 384)         885120    \n",
            "_________________________________________________________________\n",
            "conv2d_4 (Conv2D)            (None, 4, 4, 384)         1327488   \n",
            "_________________________________________________________________\n",
            "max_pooling2d_2 (MaxPooling2 (None, 1, 1, 384)         0         \n",
            "_________________________________________________________________\n",
            "batch_normalization_2 (Batch (None, 1, 1, 384)         1536      \n",
            "_________________________________________________________________\n",
            "flatten (Flatten)            (None, 384)               0         \n",
            "_________________________________________________________________\n",
            "dense (Dense)                (None, 4096)              1576960   \n",
            "_________________________________________________________________\n",
            "dropout (Dropout)            (None, 4096)              0         \n",
            "_________________________________________________________________\n",
            "dense_1 (Dense)              (None, 4096)              16781312  \n",
            "_________________________________________________________________\n",
            "dropout_1 (Dropout)          (None, 4096)              0         \n",
            "_________________________________________________________________\n",
            "dense_2 (Dense)              (None, 35)                143395    \n",
            "=================================================================\n",
            "Total params: 21,956,899\n",
            "Trainable params: 21,955,427\n",
            "Non-trainable params: 1,472\n",
            "_________________________________________________________________\n"
          ],
          "name": "stdout"
        }
      ]
    },
    {
      "cell_type": "code",
      "metadata": {
        "id": "I1aN-fGLNvFO"
      },
      "source": [
        "model.compile(loss='categorical_crossentropy', optimizer='adam', metrics=['accuracy'])"
      ],
      "execution_count": 19,
      "outputs": []
    },
    {
      "cell_type": "code",
      "metadata": {
        "colab": {
          "base_uri": "https://localhost:8080/"
        },
        "id": "z9lRYzzynWOG",
        "outputId": "15f203fb-0653-41e9-bfa1-cf4d42cedbb3"
      },
      "source": [
        "model.fit(train_gen, batch_size=64, epochs=100, verbose=1, shuffle=True)"
      ],
      "execution_count": null,
      "outputs": [
        {
          "output_type": "stream",
          "text": [
            "Epoch 1/100\n",
            "138/138 [==============================] - 294s 2s/step - loss: 5.8435 - accuracy: 0.0361\n",
            "Epoch 2/100\n",
            "138/138 [==============================] - 276s 2s/step - loss: 4.8850 - accuracy: 0.0502\n",
            "Epoch 3/100\n",
            "138/138 [==============================] - 273s 2s/step - loss: 4.7068 - accuracy: 0.0485\n",
            "Epoch 4/100\n",
            "138/138 [==============================] - 274s 2s/step - loss: 4.1808 - accuracy: 0.0613\n",
            "Epoch 5/100\n",
            "138/138 [==============================] - 272s 2s/step - loss: 4.0647 - accuracy: 0.0540\n",
            "Epoch 6/100\n",
            "138/138 [==============================] - 274s 2s/step - loss: 3.6661 - accuracy: 0.0720\n",
            "Epoch 7/100\n",
            "138/138 [==============================] - 273s 2s/step - loss: 3.7785 - accuracy: 0.0628\n",
            "Epoch 8/100\n",
            "138/138 [==============================] - 272s 2s/step - loss: 3.8939 - accuracy: 0.0656\n",
            "Epoch 9/100\n",
            "138/138 [==============================] - 269s 2s/step - loss: 3.6112 - accuracy: 0.0847\n",
            "Epoch 10/100\n",
            "138/138 [==============================] - 270s 2s/step - loss: 3.6359 - accuracy: 0.0799\n",
            "Epoch 11/100\n",
            "138/138 [==============================] - 269s 2s/step - loss: 3.6950 - accuracy: 0.0726\n",
            "Epoch 12/100\n",
            "138/138 [==============================] - 270s 2s/step - loss: 3.5970 - accuracy: 0.0791\n",
            "Epoch 13/100\n",
            "138/138 [==============================] - 268s 2s/step - loss: 3.6267 - accuracy: 0.0674\n",
            "Epoch 14/100\n",
            "138/138 [==============================] - 270s 2s/step - loss: 3.5506 - accuracy: 0.0821\n",
            "Epoch 15/100\n",
            "138/138 [==============================] - 268s 2s/step - loss: 3.5813 - accuracy: 0.0804\n",
            "Epoch 16/100\n",
            "138/138 [==============================] - 271s 2s/step - loss: 3.5268 - accuracy: 0.0914\n",
            "Epoch 17/100\n",
            "138/138 [==============================] - 269s 2s/step - loss: 3.4587 - accuracy: 0.0852\n",
            "Epoch 18/100\n",
            "138/138 [==============================] - 271s 2s/step - loss: 3.4082 - accuracy: 0.1013\n",
            "Epoch 19/100\n",
            "138/138 [==============================] - 268s 2s/step - loss: 3.3539 - accuracy: 0.1078\n",
            "Epoch 20/100\n",
            "138/138 [==============================] - 269s 2s/step - loss: 3.3777 - accuracy: 0.1032\n",
            "Epoch 21/100\n",
            "138/138 [==============================] - 270s 2s/step - loss: 3.3540 - accuracy: 0.1086\n",
            "Epoch 22/100\n",
            "138/138 [==============================] - 269s 2s/step - loss: 3.3093 - accuracy: 0.1227\n",
            "Epoch 23/100\n",
            "138/138 [==============================] - 270s 2s/step - loss: 3.2978 - accuracy: 0.1242\n",
            "Epoch 24/100\n",
            "138/138 [==============================] - 269s 2s/step - loss: 3.3082 - accuracy: 0.1149\n",
            "Epoch 25/100\n",
            "138/138 [==============================] - 269s 2s/step - loss: 3.2809 - accuracy: 0.1256\n",
            "Epoch 26/100\n",
            "138/138 [==============================] - 266s 2s/step - loss: 3.3178 - accuracy: 0.1201\n",
            "Epoch 27/100\n",
            "138/138 [==============================] - 270s 2s/step - loss: 3.2980 - accuracy: 0.1130\n",
            "Epoch 28/100\n",
            "138/138 [==============================] - 270s 2s/step - loss: 3.2615 - accuracy: 0.1241\n",
            "Epoch 29/100\n",
            "138/138 [==============================] - 268s 2s/step - loss: 3.2750 - accuracy: 0.1249\n",
            "Epoch 30/100\n",
            "138/138 [==============================] - 269s 2s/step - loss: 3.2712 - accuracy: 0.1229\n",
            "Epoch 31/100\n",
            "138/138 [==============================] - 271s 2s/step - loss: 3.2628 - accuracy: 0.1244\n",
            "Epoch 32/100\n",
            "138/138 [==============================] - 272s 2s/step - loss: 3.2481 - accuracy: 0.1216\n",
            "Epoch 33/100\n",
            "138/138 [==============================] - 272s 2s/step - loss: 3.2522 - accuracy: 0.1226\n",
            "Epoch 34/100\n",
            "138/138 [==============================] - 270s 2s/step - loss: 3.2511 - accuracy: 0.1290\n",
            "Epoch 35/100\n",
            "138/138 [==============================] - 268s 2s/step - loss: 3.2661 - accuracy: 0.1291\n",
            "Epoch 36/100\n",
            "138/138 [==============================] - 269s 2s/step - loss: 3.2652 - accuracy: 0.1124\n",
            "Epoch 37/100\n",
            "138/138 [==============================] - 268s 2s/step - loss: 3.2479 - accuracy: 0.1110\n",
            "Epoch 38/100\n",
            "138/138 [==============================] - 269s 2s/step - loss: 3.2532 - accuracy: 0.1287\n",
            "Epoch 39/100\n",
            "138/138 [==============================] - 269s 2s/step - loss: 3.2599 - accuracy: 0.1263\n",
            "Epoch 40/100\n",
            "138/138 [==============================] - 269s 2s/step - loss: 3.2517 - accuracy: 0.1176\n",
            "Epoch 41/100\n",
            "138/138 [==============================] - 269s 2s/step - loss: 3.2128 - accuracy: 0.1350\n",
            "Epoch 42/100\n",
            "138/138 [==============================] - 270s 2s/step - loss: 3.2225 - accuracy: 0.1444\n",
            "Epoch 43/100\n",
            "138/138 [==============================] - 269s 2s/step - loss: 3.2289 - accuracy: 0.1379\n",
            "Epoch 44/100\n",
            "138/138 [==============================] - 269s 2s/step - loss: 3.2768 - accuracy: 0.1238\n",
            "Epoch 45/100\n",
            "138/138 [==============================] - 269s 2s/step - loss: 3.7758 - accuracy: 0.1001\n",
            "Epoch 46/100\n",
            "138/138 [==============================] - 268s 2s/step - loss: 3.6120 - accuracy: 0.1020\n",
            "Epoch 47/100\n",
            "138/138 [==============================] - 270s 2s/step - loss: 3.4111 - accuracy: 0.1059\n",
            "Epoch 48/100\n",
            "138/138 [==============================] - 268s 2s/step - loss: 3.3744 - accuracy: 0.1131\n",
            "Epoch 49/100\n",
            "138/138 [==============================] - 270s 2s/step - loss: 3.4033 - accuracy: 0.1091\n",
            "Epoch 50/100\n",
            "138/138 [==============================] - 270s 2s/step - loss: 3.3434 - accuracy: 0.1164\n",
            "Epoch 51/100\n",
            "138/138 [==============================] - 270s 2s/step - loss: 3.3109 - accuracy: 0.1204\n",
            "Epoch 52/100\n",
            "138/138 [==============================] - 271s 2s/step - loss: 3.2417 - accuracy: 0.1325\n",
            "Epoch 53/100\n",
            "138/138 [==============================] - 269s 2s/step - loss: 3.2634 - accuracy: 0.1255\n",
            "Epoch 54/100\n",
            "138/138 [==============================] - 270s 2s/step - loss: 3.2198 - accuracy: 0.1338\n",
            "Epoch 55/100\n",
            "138/138 [==============================] - 270s 2s/step - loss: 3.2608 - accuracy: 0.1223\n",
            "Epoch 56/100\n",
            "138/138 [==============================] - 268s 2s/step - loss: 3.1931 - accuracy: 0.1363\n",
            "Epoch 57/100\n",
            "138/138 [==============================] - 270s 2s/step - loss: 3.2041 - accuracy: 0.1393\n",
            "Epoch 58/100\n",
            " 42/138 [========>.....................] - ETA: 3:09 - loss: 3.1712 - accuracy: 0.1442"
          ],
          "name": "stdout"
        }
      ]
    },
    {
      "cell_type": "code",
      "metadata": {
        "colab": {
          "base_uri": "https://localhost:8080/"
        },
        "id": "gVFHGBrNZ-1N",
        "outputId": "6850b355-f7e4-4f18-aaaf-101e2d8636c3"
      },
      "source": [
        "model.fit(train_datagen, batch_size=128, epochs=10, verbose=1, validation_data=(test_datagen))"
      ],
      "execution_count": 43,
      "outputs": [
        {
          "output_type": "stream",
          "text": [
            "Epoch 1/10\n",
            "138/138 [==============================] - 297s 2s/step - loss: 3.8744 - accuracy: 0.0663 - val_loss: 3.9964 - val_accuracy: 0.0245\n",
            "Epoch 2/10\n",
            "138/138 [==============================] - 297s 2s/step - loss: 3.6872 - accuracy: 0.0733 - val_loss: 3.4584 - val_accuracy: 0.0781\n",
            "Epoch 3/10\n",
            "138/138 [==============================] - 296s 2s/step - loss: 3.6639 - accuracy: 0.0760 - val_loss: 6.5410 - val_accuracy: 0.0291\n",
            "Epoch 4/10\n",
            "138/138 [==============================] - 298s 2s/step - loss: 3.8606 - accuracy: 0.0676 - val_loss: 4.5831 - val_accuracy: 0.0936\n",
            "Epoch 5/10\n",
            "138/138 [==============================] - 296s 2s/step - loss: 3.7899 - accuracy: 0.0678 - val_loss: 6.2239 - val_accuracy: 0.0945\n",
            "Epoch 6/10\n",
            "138/138 [==============================] - 294s 2s/step - loss: 3.9329 - accuracy: 0.0581 - val_loss: 4.1075 - val_accuracy: 0.0272\n",
            "Epoch 7/10\n",
            "138/138 [==============================] - 295s 2s/step - loss: 3.6396 - accuracy: 0.0762 - val_loss: 3.5134 - val_accuracy: 0.0790\n",
            "Epoch 8/10\n",
            "138/138 [==============================] - 294s 2s/step - loss: 3.5339 - accuracy: 0.0889 - val_loss: 3.4590 - val_accuracy: 0.0954\n",
            "Epoch 9/10\n",
            "138/138 [==============================] - 294s 2s/step - loss: 3.5113 - accuracy: 0.0860 - val_loss: 3.5709 - val_accuracy: 0.0808\n",
            "Epoch 10/10\n",
            "138/138 [==============================] - 294s 2s/step - loss: 3.5091 - accuracy: 0.0867 - val_loss: 3.4121 - val_accuracy: 0.0917\n"
          ],
          "name": "stdout"
        },
        {
          "output_type": "execute_result",
          "data": {
            "text/plain": [
              "<keras.callbacks.History at 0x7fcd6edcca50>"
            ]
          },
          "metadata": {
            "tags": []
          },
          "execution_count": 43
        }
      ]
    },
    {
      "cell_type": "code",
      "metadata": {
        "id": "-PKyjUtYaw0g"
      },
      "source": [
        ""
      ],
      "execution_count": null,
      "outputs": []
    },
    {
      "cell_type": "code",
      "metadata": {
        "colab": {
          "base_uri": "https://localhost:8080/"
        },
        "id": "SLkZSDVBNyCq",
        "outputId": "c981c500-7211-4e6b-bcea-f7f7c06e87a1"
      },
      "source": [
        "model.fit(train_datagen, steps_per_epoch=15, \n",
        "                    epochs=16, validation_data=test_datagen, \n",
        "                    validation_steps=15)"
      ],
      "execution_count": 42,
      "outputs": [
        {
          "output_type": "stream",
          "text": [
            "Epoch 1/16\n",
            "15/15 [==============================] - 55s 4s/step - loss: 4.2716 - accuracy: 0.0604 - val_loss: 4.5001 - val_accuracy: 0.0200\n",
            "Epoch 2/16\n",
            "15/15 [==============================] - 90s 6s/step - loss: 4.3087 - accuracy: 0.0417 - val_loss: 5.6832 - val_accuracy: 0.0263\n",
            "Epoch 3/16\n",
            "15/15 [==============================] - 55s 4s/step - loss: 4.3561 - accuracy: 0.0437 - val_loss: 4.2368 - val_accuracy: 0.0300\n",
            "Epoch 4/16\n",
            "15/15 [==============================] - 54s 4s/step - loss: 4.4643 - accuracy: 0.0646 - val_loss: 4.4888 - val_accuracy: 0.0200\n",
            "Epoch 5/16\n",
            "15/15 [==============================] - 54s 4s/step - loss: 4.4845 - accuracy: 0.0417 - val_loss: 5.2646 - val_accuracy: 0.0336\n",
            "Epoch 6/16\n",
            "15/15 [==============================] - 54s 4s/step - loss: 4.6404 - accuracy: 0.0396 - val_loss: 4.5662 - val_accuracy: 0.0527\n",
            "Epoch 7/16\n",
            "15/15 [==============================] - 54s 4s/step - loss: 4.3778 - accuracy: 0.0667 - val_loss: 4.3404 - val_accuracy: 0.0536\n",
            "Epoch 8/16\n",
            "15/15 [==============================] - 54s 4s/step - loss: 4.4580 - accuracy: 0.0500 - val_loss: 4.5493 - val_accuracy: 0.0318\n",
            "Epoch 9/16\n",
            "15/15 [==============================] - 54s 4s/step - loss: 4.4783 - accuracy: 0.0562 - val_loss: 4.5149 - val_accuracy: 0.0527\n",
            "Epoch 10/16\n",
            "15/15 [==============================] - 54s 4s/step - loss: 4.2782 - accuracy: 0.0708 - val_loss: 4.7734 - val_accuracy: 0.0409\n",
            "Epoch 11/16\n",
            "15/15 [==============================] - 54s 4s/step - loss: 4.4562 - accuracy: 0.0521 - val_loss: 5.4761 - val_accuracy: 0.0436\n",
            "Epoch 12/16\n",
            "15/15 [==============================] - 54s 4s/step - loss: 4.5076 - accuracy: 0.0250 - val_loss: 4.6785 - val_accuracy: 0.0718\n",
            "Epoch 13/16\n",
            "15/15 [==============================] - 54s 4s/step - loss: 4.3723 - accuracy: 0.0667 - val_loss: 5.2230 - val_accuracy: 0.0245\n",
            "Epoch 14/16\n",
            "15/15 [==============================] - 54s 4s/step - loss: 4.3275 - accuracy: 0.0562 - val_loss: 4.6613 - val_accuracy: 0.0436\n",
            "Epoch 15/16\n",
            "15/15 [==============================] - 54s 4s/step - loss: 4.2827 - accuracy: 0.0583 - val_loss: 4.2474 - val_accuracy: 0.0100\n",
            "Epoch 16/16\n",
            "15/15 [==============================] - 54s 4s/step - loss: 4.1223 - accuracy: 0.0688 - val_loss: 4.2755 - val_accuracy: 0.0209\n"
          ],
          "name": "stdout"
        },
        {
          "output_type": "execute_result",
          "data": {
            "text/plain": [
              "<keras.callbacks.History at 0x7fcd6eeae590>"
            ]
          },
          "metadata": {
            "tags": []
          },
          "execution_count": 42
        }
      ]
    }
  ]
}