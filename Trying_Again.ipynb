{
  "nbformat": 4,
  "nbformat_minor": 0,
  "metadata": {
    "colab": {
      "name": "Trying Again.ipynb",
      "provenance": [],
      "mount_file_id": "18ycLou3zWe8T0yLvDfS-J9EQxuAzX2eW",
      "authorship_tag": "ABX9TyOSXdxYtZHTgpbKxuBXftJx",
      "include_colab_link": true
    },
    "kernelspec": {
      "name": "python3",
      "display_name": "Python 3"
    },
    "language_info": {
      "name": "python"
    }
  },
  "cells": [
    {
      "cell_type": "markdown",
      "metadata": {
        "id": "view-in-github",
        "colab_type": "text"
      },
      "source": [
        "<a href=\"https://colab.research.google.com/github/hholl19/Deep-Leaning-Class-Notes/blob/hholl19_added_things/Trying_Again.ipynb\" target=\"_parent\"><img src=\"https://colab.research.google.com/assets/colab-badge.svg\" alt=\"Open In Colab\"/></a>"
      ]
    },
    {
      "cell_type": "code",
      "metadata": {
        "id": "KMMuWpJapjJQ"
      },
      "source": [
        "import keras\n",
        "import pandas as pd\n",
        "import numpy as np\n",
        "import os\n",
        "import pathlib \n",
        "from pathlib import Path\n",
        "import cv2\n",
        "from tqdm import tqdm\n",
        "from keras.models import Sequential\n",
        "from keras.layers import Dropout, Dense, Flatten, Conv2D, MaxPooling2D \n",
        "from keras.layers.normalization import BatchNormalization \n",
        "from keras.optimizers import SGD\n",
        "from sklearn.model_selection import train_test_split\n",
        "\n",
        "from numpy import expand_dims\n",
        "from keras.preprocessing.image import ImageDataGenerator, load_img, img_to_array\n",
        "from matplotlib import pyplot"
      ],
      "execution_count": 1,
      "outputs": []
    },
    {
      "cell_type": "markdown",
      "metadata": {
        "id": "yGOYlk5fGD5k"
      },
      "source": [
        "**Attempts to add dataset with Kaggle API and Google Colab. Main issue was unable to pull image files for model.**"
      ]
    },
    {
      "cell_type": "code",
      "metadata": {
        "colab": {
          "base_uri": "https://localhost:8080/"
        },
        "id": "Ul6-O_Gyygxy",
        "outputId": "d3449556-a857-4d66-c7f6-5957014640be"
      },
      "source": [
        "#!mkdir ~/.kaggle #create the .kaggle folder in your root directory\n",
        "#!echo '{\"username\":\"hholl19\",\"key\":\"5209baad90fe207be2b471380de09e89\"}' > ~/.kaggle/kaggle.json #write kaggle API credentials to kaggle.json\n",
        "#!chmod 600 ~/.kaggle/kaggle.json  # set permissions\n",
        "#!pip install kaggle "
      ],
      "execution_count": null,
      "outputs": [
        {
          "output_type": "stream",
          "text": [
            "mkdir: cannot create directory ‘/root/.kaggle’: File exists\n",
            "Requirement already satisfied: kaggle in /usr/local/lib/python3.7/dist-packages (1.5.12)\n",
            "Requirement already satisfied: python-dateutil in /usr/local/lib/python3.7/dist-packages (from kaggle) (2.8.1)\n",
            "Requirement already satisfied: python-slugify in /usr/local/lib/python3.7/dist-packages (from kaggle) (5.0.2)\n",
            "Requirement already satisfied: urllib3 in /usr/local/lib/python3.7/dist-packages (from kaggle) (1.24.3)\n",
            "Requirement already satisfied: six>=1.10 in /usr/local/lib/python3.7/dist-packages (from kaggle) (1.15.0)\n",
            "Requirement already satisfied: tqdm in /usr/local/lib/python3.7/dist-packages (from kaggle) (4.41.1)\n",
            "Requirement already satisfied: certifi in /usr/local/lib/python3.7/dist-packages (from kaggle) (2021.5.30)\n",
            "Requirement already satisfied: requests in /usr/local/lib/python3.7/dist-packages (from kaggle) (2.23.0)\n",
            "Requirement already satisfied: text-unidecode>=1.3 in /usr/local/lib/python3.7/dist-packages (from python-slugify->kaggle) (1.3)\n",
            "Requirement already satisfied: idna<3,>=2.5 in /usr/local/lib/python3.7/dist-packages (from requests->kaggle) (2.10)\n",
            "Requirement already satisfied: chardet<4,>=3.0.2 in /usr/local/lib/python3.7/dist-packages (from requests->kaggle) (3.0.4)\n"
          ],
          "name": "stdout"
        }
      ]
    },
    {
      "cell_type": "code",
      "metadata": {
        "colab": {
          "base_uri": "https://localhost:8080/",
          "height": 35
        },
        "id": "6I6NwwuyXmC9",
        "outputId": "b920026d-43c3-46dc-f354-1b7d9ff635a8"
      },
      "source": [
        "#os.getcwd()"
      ],
      "execution_count": null,
      "outputs": [
        {
          "output_type": "execute_result",
          "data": {
            "application/vnd.google.colaboratory.intrinsic+json": {
              "type": "string"
            },
            "text/plain": [
              "'/content'"
            ]
          },
          "metadata": {
            "tags": []
          },
          "execution_count": 5
        }
      ]
    },
    {
      "cell_type": "code",
      "metadata": {
        "colab": {
          "base_uri": "https://localhost:8080/",
          "height": 35
        },
        "id": "R65VFaYlZPKw",
        "outputId": "d2506939-1439-420a-c28f-0d485476a383"
      },
      "source": [
        "#pwd"
      ],
      "execution_count": null,
      "outputs": [
        {
          "output_type": "execute_result",
          "data": {
            "application/vnd.google.colaboratory.intrinsic+json": {
              "type": "string"
            },
            "text/plain": [
              "'/content'"
            ]
          },
          "metadata": {
            "tags": []
          },
          "execution_count": 9
        }
      ]
    },
    {
      "cell_type": "code",
      "metadata": {
        "colab": {
          "base_uri": "https://localhost:8080/"
        },
        "id": "bo0WM_upKox0",
        "outputId": "78c17c4f-7080-48a7-af06-12ce4a652b6d"
      },
      "source": [
        "#!kaggle datasets download -d {hackerearths-snakes-in-the-hood} -p /content [-w]\n",
        "#!unzip /content/hackerearths-snakes-in-the-hood.zip -d review"
      ],
      "execution_count": null,
      "outputs": [
        {
          "output_type": "stream",
          "text": [
            "404 - Not Found\n",
            "Archive:  /content/hackerearths-snakes-in-the-hood.zip\n",
            "replace review/dataset/test.csv? [y]es, [n]o, [A]ll, [N]one, [r]ename: "
          ],
          "name": "stdout"
        }
      ]
    },
    {
      "cell_type": "code",
      "metadata": {
        "colab": {
          "base_uri": "https://localhost:8080/"
        },
        "id": "EI3pK48OK9b4",
        "outputId": "75b05ced-48c8-4ffb-810c-cf5e10e16077"
      },
      "source": [
        "file_path= '/content/drive/MyDrive/Kaggle-Applied Deep Learning Project/Inputs'\n",
        "folders = os.listdir(file_path)\n",
        "print(folders)"
      ],
      "execution_count": 3,
      "outputs": [
        {
          "output_type": "stream",
          "text": [
            "['test.csv', 'train.csv', 'train', 'test']\n"
          ],
          "name": "stdout"
        }
      ]
    },
    {
      "cell_type": "code",
      "metadata": {
        "colab": {
          "base_uri": "https://localhost:8080/",
          "height": 204
        },
        "id": "FRuQPQRxsqBa",
        "outputId": "27ed6efa-31fa-4db9-ba2b-792d292217d3"
      },
      "source": [
        "df_train= pd.read_csv('/content/drive/MyDrive/Kaggle-Applied Deep Learning Project/Inputs/train.csv')\n",
        "df_train.head()"
      ],
      "execution_count": 5,
      "outputs": [
        {
          "output_type": "execute_result",
          "data": {
            "text/html": [
              "<div>\n",
              "<style scoped>\n",
              "    .dataframe tbody tr th:only-of-type {\n",
              "        vertical-align: middle;\n",
              "    }\n",
              "\n",
              "    .dataframe tbody tr th {\n",
              "        vertical-align: top;\n",
              "    }\n",
              "\n",
              "    .dataframe thead th {\n",
              "        text-align: right;\n",
              "    }\n",
              "</style>\n",
              "<table border=\"1\" class=\"dataframe\">\n",
              "  <thead>\n",
              "    <tr style=\"text-align: right;\">\n",
              "      <th></th>\n",
              "      <th>image_id</th>\n",
              "      <th>breed</th>\n",
              "    </tr>\n",
              "  </thead>\n",
              "  <tbody>\n",
              "    <tr>\n",
              "      <th>0</th>\n",
              "      <td>a8b3ad1dde</td>\n",
              "      <td>nerodia-erythrogaster</td>\n",
              "    </tr>\n",
              "    <tr>\n",
              "      <th>1</th>\n",
              "      <td>8b492b973d</td>\n",
              "      <td>pantherophis-vulpinus</td>\n",
              "    </tr>\n",
              "    <tr>\n",
              "      <th>2</th>\n",
              "      <td>929b99ea92</td>\n",
              "      <td>thamnophis-sirtalis</td>\n",
              "    </tr>\n",
              "    <tr>\n",
              "      <th>3</th>\n",
              "      <td>bbac7385e2</td>\n",
              "      <td>pantherophis-obsoletus</td>\n",
              "    </tr>\n",
              "    <tr>\n",
              "      <th>4</th>\n",
              "      <td>ef776b1488</td>\n",
              "      <td>agkistrodon-contortrix</td>\n",
              "    </tr>\n",
              "  </tbody>\n",
              "</table>\n",
              "</div>"
            ],
            "text/plain": [
              "     image_id                   breed\n",
              "0  a8b3ad1dde   nerodia-erythrogaster\n",
              "1  8b492b973d   pantherophis-vulpinus\n",
              "2  929b99ea92     thamnophis-sirtalis\n",
              "3  bbac7385e2  pantherophis-obsoletus\n",
              "4  ef776b1488  agkistrodon-contortrix"
            ]
          },
          "metadata": {
            "tags": []
          },
          "execution_count": 5
        }
      ]
    },
    {
      "cell_type": "markdown",
      "metadata": {
        "id": "ywUu7YK_Fwoi"
      },
      "source": [
        "The test set doesn't have any labels so we can't determine if our answers are correct or not. As a result, we will be splitting this dataset. "
      ]
    },
    {
      "cell_type": "code",
      "metadata": {
        "colab": {
          "base_uri": "https://localhost:8080/"
        },
        "id": "uTltSTxrHVPJ",
        "outputId": "6d8e4730-da37-4a65-b853-79b6d168c676"
      },
      "source": [
        "df_train.shape"
      ],
      "execution_count": 6,
      "outputs": [
        {
          "output_type": "execute_result",
          "data": {
            "text/plain": [
              "(5508, 2)"
            ]
          },
          "metadata": {
            "tags": []
          },
          "execution_count": 6
        }
      ]
    },
    {
      "cell_type": "code",
      "metadata": {
        "id": "5_Yl3qT2vumh",
        "colab": {
          "base_uri": "https://localhost:8080/"
        },
        "outputId": "bb70cbc2-d843-4373-de4a-4c54ec641ec2"
      },
      "source": [
        "df_train.nunique()"
      ],
      "execution_count": 8,
      "outputs": [
        {
          "output_type": "execute_result",
          "data": {
            "text/plain": [
              "image_id    5508\n",
              "breed         35\n",
              "dtype: int64"
            ]
          },
          "metadata": {
            "tags": []
          },
          "execution_count": 8
        }
      ]
    },
    {
      "cell_type": "code",
      "metadata": {
        "id": "bBY2ww5nv09j",
        "colab": {
          "base_uri": "https://localhost:8080/"
        },
        "outputId": "8b8fa739-eb6e-4035-91a8-2762665a4665"
      },
      "source": [
        "df_train['breed'].value_counts()"
      ],
      "execution_count": 12,
      "outputs": [
        {
          "output_type": "execute_result",
          "data": {
            "text/plain": [
              "thamnophis-sirtalis            509\n",
              "storeria-dekayi                412\n",
              "pantherophis-obsoletus         366\n",
              "crotalus-atrox                 354\n",
              "pituophis-catenifer            298\n",
              "nerodia-sipedon                259\n",
              "agkistrodon-contortrix         206\n",
              "lampropeltis-triangulum        197\n",
              "diadophis-punctatus            184\n",
              "pantherophis-alleghaniensis    172\n",
              "nerodia-erythrogaster          171\n",
              "lampropeltis-californiae       166\n",
              "opheodrys-aestivus             152\n",
              "agkistrodon-piscivorus         147\n",
              "crotalus-horridus              142\n",
              "coluber-constrictor            129\n",
              "heterodon-platirhinos          118\n",
              "thamnophis-proximus            112\n",
              "nerodia-rhombifer              104\n",
              "pantherophis-guttatus          100\n",
              "thamnophis-radix               100\n",
              "haldea-striatula                98\n",
              "pantherophis-spiloides          92\n",
              "rhinocheilus-lecontei           91\n",
              "storeria-occipitomaculata       87\n",
              "masticophis-flagellum           83\n",
              "crotalus-viridis                83\n",
              "thamnophis-marcianus            82\n",
              "crotalus-ruber                  77\n",
              "nerodia-fasciata                74\n",
              "pantherophis-vulpinus           73\n",
              "natrix-natrix                   72\n",
              "thamnophis-elegans              69\n",
              "pantherophis-emoryi             66\n",
              "crotalus-scutulatus             63\n",
              "Name: breed, dtype: int64"
            ]
          },
          "metadata": {
            "tags": []
          },
          "execution_count": 12
        }
      ]
    },
    {
      "cell_type": "markdown",
      "metadata": {
        "id": "CdILNGbeNNOC"
      },
      "source": [
        "*Added in image file paths to pull images into CSV for easier processing.*"
      ]
    },
    {
      "cell_type": "code",
      "metadata": {
        "colab": {
          "base_uri": "https://localhost:8080/",
          "height": 204
        },
        "id": "Sd03L-CpwQB0",
        "outputId": "8093197e-9df4-49e8-9790-272d13977a71"
      },
      "source": [
        "df_train[\"image_id\"]=\"/content/drive/MyDrive/Kaggle-Applied Deep Learning Project/Inputs/train/\" + df_train[\"image_id\"] + \".jpg\"\n",
        "df_train.head()"
      ],
      "execution_count": 15,
      "outputs": [
        {
          "output_type": "execute_result",
          "data": {
            "text/html": [
              "<div>\n",
              "<style scoped>\n",
              "    .dataframe tbody tr th:only-of-type {\n",
              "        vertical-align: middle;\n",
              "    }\n",
              "\n",
              "    .dataframe tbody tr th {\n",
              "        vertical-align: top;\n",
              "    }\n",
              "\n",
              "    .dataframe thead th {\n",
              "        text-align: right;\n",
              "    }\n",
              "</style>\n",
              "<table border=\"1\" class=\"dataframe\">\n",
              "  <thead>\n",
              "    <tr style=\"text-align: right;\">\n",
              "      <th></th>\n",
              "      <th>image_id</th>\n",
              "      <th>breed</th>\n",
              "    </tr>\n",
              "  </thead>\n",
              "  <tbody>\n",
              "    <tr>\n",
              "      <th>0</th>\n",
              "      <td>/content/drive/MyDrive/Kaggle-Applied Deep Lea...</td>\n",
              "      <td>nerodia-erythrogaster</td>\n",
              "    </tr>\n",
              "    <tr>\n",
              "      <th>1</th>\n",
              "      <td>/content/drive/MyDrive/Kaggle-Applied Deep Lea...</td>\n",
              "      <td>pantherophis-vulpinus</td>\n",
              "    </tr>\n",
              "    <tr>\n",
              "      <th>2</th>\n",
              "      <td>/content/drive/MyDrive/Kaggle-Applied Deep Lea...</td>\n",
              "      <td>thamnophis-sirtalis</td>\n",
              "    </tr>\n",
              "    <tr>\n",
              "      <th>3</th>\n",
              "      <td>/content/drive/MyDrive/Kaggle-Applied Deep Lea...</td>\n",
              "      <td>pantherophis-obsoletus</td>\n",
              "    </tr>\n",
              "    <tr>\n",
              "      <th>4</th>\n",
              "      <td>/content/drive/MyDrive/Kaggle-Applied Deep Lea...</td>\n",
              "      <td>agkistrodon-contortrix</td>\n",
              "    </tr>\n",
              "  </tbody>\n",
              "</table>\n",
              "</div>"
            ],
            "text/plain": [
              "                                            image_id                   breed\n",
              "0  /content/drive/MyDrive/Kaggle-Applied Deep Lea...   nerodia-erythrogaster\n",
              "1  /content/drive/MyDrive/Kaggle-Applied Deep Lea...   pantherophis-vulpinus\n",
              "2  /content/drive/MyDrive/Kaggle-Applied Deep Lea...     thamnophis-sirtalis\n",
              "3  /content/drive/MyDrive/Kaggle-Applied Deep Lea...  pantherophis-obsoletus\n",
              "4  /content/drive/MyDrive/Kaggle-Applied Deep Lea...  agkistrodon-contortrix"
            ]
          },
          "metadata": {
            "tags": []
          },
          "execution_count": 15
        }
      ]
    },
    {
      "cell_type": "code",
      "metadata": {
        "id": "hX5mpdq_tiGy"
      },
      "source": [
        "train_datagen = ImageDataGenerator(rescale=1/255,\n",
        "        validation_split=0.2,\n",
        "        data_format='channels_last',\n",
        "        rotation_range=30,\n",
        "        horizontal_flip=True,\n",
        "        fill_mode='reflect') \n",
        "test_datagen = ImageDataGenerator(\n",
        "    rescale=1.0/255,\n",
        "    data_format='channels_last')"
      ],
      "execution_count": 28,
      "outputs": []
    },
    {
      "cell_type": "code",
      "metadata": {
        "colab": {
          "base_uri": "https://localhost:8080/"
        },
        "id": "hdagnOKOuMFl",
        "outputId": "6b4d7db4-9818-40d3-c624-b1d7fdfd6323"
      },
      "source": [
        "train_datagen = datagen.flow_from_dataframe(\n",
        "        dataframe=df_train,\n",
        "        directory=\"/content/drive/MyDrive/Kaggle-Applied Deep Learning Project/Inputs/train/\",\n",
        "        x_col=\"image_id\",\n",
        "        y_col=\"breed\",\n",
        "        subset=\"training\",\n",
        "        batch_size=32,\n",
        "        seed=123,\n",
        "        shuffle=True,\n",
        "        color_mode=\"rgb\",\n",
        "        class_mode=\"categorical\", # this does the work of encoding\n",
        "        target_size=(224,224)) # Change acc to model requirements"
      ],
      "execution_count": 29,
      "outputs": [
        {
          "output_type": "stream",
          "text": [
            "Found 4407 validated image filenames belonging to 35 classes.\n"
          ],
          "name": "stdout"
        }
      ]
    },
    {
      "cell_type": "code",
      "metadata": {
        "colab": {
          "base_uri": "https://localhost:8080/"
        },
        "id": "Lce-BWjeu_hD",
        "outputId": "b69fed7b-2f86-447f-b263-565283e542fa"
      },
      "source": [
        "test_datagen = datagen.flow_from_dataframe(\n",
        "        dataframe=df_train,\n",
        "        directory=\"/content/drive/MyDrive/Kaggle-Applied Deep Learning Project/Inputs/train/\",\n",
        "        x_col=\"image_id\",\n",
        "        y_col=\"breed\",\n",
        "        subset=\"validation\",\n",
        "        batch_size=32,\n",
        "        seed=123,\n",
        "        shuffle=True,\n",
        "        color_mode=\"rgb\",\n",
        "        class_mode=\"categorical\", # this does the work of encoding\n",
        "        target_size=(224,224))"
      ],
      "execution_count": 30,
      "outputs": [
        {
          "output_type": "stream",
          "text": [
            "Found 1101 validated image filenames belonging to 35 classes.\n"
          ],
          "name": "stdout"
        }
      ]
    },
    {
      "cell_type": "markdown",
      "metadata": {
        "id": "VmRocdrxL_rz"
      },
      "source": [
        "**Building out the Model**\n"
      ]
    },
    {
      "cell_type": "code",
      "metadata": {
        "id": "55TlkqZiKhCc"
      },
      "source": [
        "model = Sequential()\n",
        "\n",
        "model.add(Conv2D(96, kernel_size=(11, 11), strides=(4, 4), activation='relu', input_shape=(224, 224, 3)))\n",
        "model.add(MaxPooling2D(pool_size=(3, 3), strides=(2, 2)))\n",
        "model.add(BatchNormalization())\n",
        "\n",
        "model.add(Conv2D(256, kernel_size=(5, 5), activation='relu'))\n",
        "model.add(MaxPooling2D(pool_size=(3, 3), strides=(2, 2)))\n",
        "model.add(BatchNormalization())\n",
        "\n",
        "model.add(Conv2D(256, kernel_size=(3, 3), activation='relu'))\n",
        "model.add(Conv2D(384, kernel_size=(3, 3), activation='relu'))\n",
        "model.add(Conv2D(384, kernel_size=(3, 3), activation='relu'))\n",
        "model.add(MaxPooling2D(pool_size=(3, 3), strides=(2, 2)))\n",
        "model.add(BatchNormalization())\n",
        "\n",
        "model.add(Flatten())\n",
        "model.add(Dense(4096, activation='tanh'))\n",
        "model.add(Dropout(0.5))\n",
        "model.add(Dense(4096, activation='tanh'))\n",
        "model.add(Dropout(0.5))\n",
        "\n",
        "model.add(Dense(17, activation='softmax'))"
      ],
      "execution_count": 31,
      "outputs": []
    },
    {
      "cell_type": "code",
      "metadata": {
        "colab": {
          "base_uri": "https://localhost:8080/"
        },
        "id": "mLB_8zWZNlkg",
        "outputId": "def95b6c-b86c-4963-ef31-198131f2a047"
      },
      "source": [
        "model.summary()"
      ],
      "execution_count": 32,
      "outputs": [
        {
          "output_type": "stream",
          "text": [
            "Model: \"sequential\"\n",
            "_________________________________________________________________\n",
            "Layer (type)                 Output Shape              Param #   \n",
            "=================================================================\n",
            "conv2d (Conv2D)              (None, 54, 54, 96)        34944     \n",
            "_________________________________________________________________\n",
            "max_pooling2d (MaxPooling2D) (None, 26, 26, 96)        0         \n",
            "_________________________________________________________________\n",
            "batch_normalization (BatchNo (None, 26, 26, 96)        384       \n",
            "_________________________________________________________________\n",
            "conv2d_1 (Conv2D)            (None, 22, 22, 256)       614656    \n",
            "_________________________________________________________________\n",
            "max_pooling2d_1 (MaxPooling2 (None, 10, 10, 256)       0         \n",
            "_________________________________________________________________\n",
            "batch_normalization_1 (Batch (None, 10, 10, 256)       1024      \n",
            "_________________________________________________________________\n",
            "conv2d_2 (Conv2D)            (None, 8, 8, 256)         590080    \n",
            "_________________________________________________________________\n",
            "conv2d_3 (Conv2D)            (None, 6, 6, 384)         885120    \n",
            "_________________________________________________________________\n",
            "conv2d_4 (Conv2D)            (None, 4, 4, 384)         1327488   \n",
            "_________________________________________________________________\n",
            "max_pooling2d_2 (MaxPooling2 (None, 1, 1, 384)         0         \n",
            "_________________________________________________________________\n",
            "batch_normalization_2 (Batch (None, 1, 1, 384)         1536      \n",
            "_________________________________________________________________\n",
            "flatten (Flatten)            (None, 384)               0         \n",
            "_________________________________________________________________\n",
            "dense (Dense)                (None, 4096)              1576960   \n",
            "_________________________________________________________________\n",
            "dropout (Dropout)            (None, 4096)              0         \n",
            "_________________________________________________________________\n",
            "dense_1 (Dense)              (None, 4096)              16781312  \n",
            "_________________________________________________________________\n",
            "dropout_1 (Dropout)          (None, 4096)              0         \n",
            "_________________________________________________________________\n",
            "dense_2 (Dense)              (None, 17)                69649     \n",
            "=================================================================\n",
            "Total params: 21,883,153\n",
            "Trainable params: 21,881,681\n",
            "Non-trainable params: 1,472\n",
            "_________________________________________________________________\n"
          ],
          "name": "stdout"
        }
      ]
    },
    {
      "cell_type": "code",
      "metadata": {
        "id": "I1aN-fGLNvFO"
      },
      "source": [
        "model.compile(loss='categorical_crossentropy', optimizer='adam', metrics=['accuracy'])"
      ],
      "execution_count": 33,
      "outputs": []
    },
    {
      "cell_type": "code",
      "metadata": {
        "id": "SLkZSDVBNyCq"
      },
      "source": [
        ""
      ],
      "execution_count": null,
      "outputs": []
    }
  ]
}