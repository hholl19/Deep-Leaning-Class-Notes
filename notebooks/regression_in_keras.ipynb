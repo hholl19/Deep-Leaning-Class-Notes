{
  "nbformat": 4,
  "nbformat_minor": 0,
  "metadata": {
    "kernelspec": {
      "display_name": "Python 3",
      "language": "python",
      "name": "python3"
    },
    "language_info": {
      "codemirror_mode": {
        "name": "ipython",
        "version": 3
      },
      "file_extension": ".py",
      "mimetype": "text/x-python",
      "name": "python",
      "nbconvert_exporter": "python",
      "pygments_lexer": "ipython3",
      "version": "3.6.5"
    },
    "colab": {
      "name": "regression_in_keras.ipynb",
      "provenance": []
    }
  },
  "cells": [
    {
      "cell_type": "markdown",
      "metadata": {
        "id": "ryo0vpf4QLtg"
      },
      "source": [
        "# Regression Example in Keras\n",
        "Predicting house prices in Boston, Massachusetts "
      ]
    },
    {
      "cell_type": "markdown",
      "metadata": {
        "id": "7HppOhrXQLtm"
      },
      "source": [
        "[![Open In Colab](https://colab.research.google.com/assets/colab-badge.svg)](https://colab.research.google.com/github/the-deep-learners/deep-learning-illustrated/blob/master/notebooks/regression_in_keras.ipynb)"
      ]
    },
    {
      "cell_type": "markdown",
      "metadata": {
        "id": "mlrPyuagQLtm"
      },
      "source": [
        "#### Load dependencies"
      ]
    },
    {
      "cell_type": "code",
      "metadata": {
        "id": "dNXUjdWSQLtn",
        "outputId": "53ee0390-6536-4265-9d9b-ad8f9eb24ebc"
      },
      "source": [
        "import numpy as np\n",
        "from keras.datasets import boston_housing\n",
        "from keras.models import Sequential\n",
        "from keras.layers import Dense, Dropout \n",
        "from keras.layers.normalization import BatchNormalization "
      ],
      "execution_count": null,
      "outputs": [
        {
          "output_type": "stream",
          "text": [
            "Using TensorFlow backend.\n"
          ],
          "name": "stderr"
        }
      ]
    },
    {
      "cell_type": "markdown",
      "metadata": {
        "id": "VGJvRTtrQLtp"
      },
      "source": [
        "#### Load data"
      ]
    },
    {
      "cell_type": "code",
      "metadata": {
        "id": "vbYtmiyHQLtq",
        "outputId": "c5418266-dee7-4491-8b98-0feb1f213b5f"
      },
      "source": [
        "(X_train, y_train), (X_valid, y_valid) = boston_housing.load_data()"
      ],
      "execution_count": null,
      "outputs": [
        {
          "output_type": "stream",
          "text": [
            "Downloading data from https://s3.amazonaws.com/keras-datasets/boston_housing.npz\n",
            "57344/57026 [==============================] - 0s 1us/step\n"
          ],
          "name": "stdout"
        }
      ]
    },
    {
      "cell_type": "code",
      "metadata": {
        "id": "fNJZGXRTQLtr",
        "outputId": "4834e31b-0175-4e7a-fe24-26c78f8ac474"
      },
      "source": [
        "X_train.shape"
      ],
      "execution_count": null,
      "outputs": [
        {
          "output_type": "execute_result",
          "data": {
            "text/plain": [
              "(404, 13)"
            ]
          },
          "metadata": {
            "tags": []
          },
          "execution_count": 6
        }
      ]
    },
    {
      "cell_type": "code",
      "metadata": {
        "id": "sGK6dwDgQLts",
        "outputId": "6467f68d-6f39-44ac-fd59-55b08f03a7d8"
      },
      "source": [
        "X_valid.shape"
      ],
      "execution_count": null,
      "outputs": [
        {
          "output_type": "execute_result",
          "data": {
            "text/plain": [
              "(102, 13)"
            ]
          },
          "metadata": {
            "tags": []
          },
          "execution_count": 7
        }
      ]
    },
    {
      "cell_type": "code",
      "metadata": {
        "id": "_QLlDPvAQLts",
        "outputId": "3dcf9f97-061a-49ef-9843-dff7c76069ab"
      },
      "source": [
        "X_train[0]"
      ],
      "execution_count": null,
      "outputs": [
        {
          "output_type": "execute_result",
          "data": {
            "text/plain": [
              "array([  1.23247,   0.     ,   8.14   ,   0.     ,   0.538  ,   6.142  ,\n",
              "        91.7    ,   3.9769 ,   4.     , 307.     ,  21.     , 396.9    ,\n",
              "        18.72   ])"
            ]
          },
          "metadata": {
            "tags": []
          },
          "execution_count": 3
        }
      ]
    },
    {
      "cell_type": "code",
      "metadata": {
        "id": "XAu1rf8nQLtt",
        "outputId": "43003888-c31d-4840-fce0-5585bd25404d"
      },
      "source": [
        "y_train[0]"
      ],
      "execution_count": null,
      "outputs": [
        {
          "output_type": "execute_result",
          "data": {
            "text/plain": [
              "15.2"
            ]
          },
          "metadata": {
            "tags": []
          },
          "execution_count": 4
        }
      ]
    },
    {
      "cell_type": "markdown",
      "metadata": {
        "id": "vgQ9rn7tQLtu"
      },
      "source": [
        "#### Design neural network architecture"
      ]
    },
    {
      "cell_type": "code",
      "metadata": {
        "id": "-SOFEgAJQLtv"
      },
      "source": [
        "model = Sequential()\n",
        "\n",
        "model.add(Dense(32, input_dim=13, activation='relu'))\n",
        "model.add(BatchNormalization())\n",
        "\n",
        "model.add(Dense(16, activation='relu'))\n",
        "model.add(BatchNormalization())\n",
        "model.add(Dropout(0.2))\n",
        "\n",
        "model.add(Dense(1, activation='linear'))"
      ],
      "execution_count": null,
      "outputs": []
    },
    {
      "cell_type": "code",
      "metadata": {
        "id": "1WcNDgpsQLtw",
        "outputId": "7559cec3-b102-4ffb-d076-f7abac57a113"
      },
      "source": [
        "model.summary()"
      ],
      "execution_count": null,
      "outputs": [
        {
          "output_type": "stream",
          "text": [
            "_________________________________________________________________\n",
            "Layer (type)                 Output Shape              Param #   \n",
            "=================================================================\n",
            "dense_1 (Dense)              (None, 32)                448       \n",
            "_________________________________________________________________\n",
            "batch_normalization_1 (Batch (None, 32)                128       \n",
            "_________________________________________________________________\n",
            "dense_2 (Dense)              (None, 16)                528       \n",
            "_________________________________________________________________\n",
            "batch_normalization_2 (Batch (None, 16)                64        \n",
            "_________________________________________________________________\n",
            "dropout_1 (Dropout)          (None, 16)                0         \n",
            "_________________________________________________________________\n",
            "dense_3 (Dense)              (None, 1)                 17        \n",
            "=================================================================\n",
            "Total params: 1,185\n",
            "Trainable params: 1,089\n",
            "Non-trainable params: 96\n",
            "_________________________________________________________________\n"
          ],
          "name": "stdout"
        }
      ]
    },
    {
      "cell_type": "markdown",
      "metadata": {
        "id": "5rCEIdxfQLtx"
      },
      "source": [
        "#### Configure Model"
      ]
    },
    {
      "cell_type": "code",
      "metadata": {
        "id": "BLW1g_UEQLt0"
      },
      "source": [
        "model.compile(loss='mean_squared_error', optimizer='adam')"
      ],
      "execution_count": null,
      "outputs": []
    },
    {
      "cell_type": "markdown",
      "metadata": {
        "id": "dbIEXfU0QLt1"
      },
      "source": [
        "#### Train!"
      ]
    },
    {
      "cell_type": "code",
      "metadata": {
        "id": "T5xgA0beQLt2",
        "outputId": "984e32f3-09db-4750-c37d-439f9e93770d"
      },
      "source": [
        "model.fit(X_train, y_train, \n",
        "          batch_size=8, epochs=32, verbose=1, \n",
        "          validation_data=(X_valid, y_valid))"
      ],
      "execution_count": null,
      "outputs": [
        {
          "output_type": "stream",
          "text": [
            "Train on 404 samples, validate on 102 samples\n",
            "Epoch 1/32\n",
            "404/404 [==============================] - 0s 299us/step - loss: 49.2080 - val_loss: 56.6020\n",
            "Epoch 2/32\n",
            "404/404 [==============================] - 0s 271us/step - loss: 47.4038 - val_loss: 29.8796\n",
            "Epoch 3/32\n",
            "404/404 [==============================] - 0s 197us/step - loss: 46.7576 - val_loss: 23.9344\n",
            "Epoch 4/32\n",
            "404/404 [==============================] - 0s 187us/step - loss: 44.1485 - val_loss: 42.2967\n",
            "Epoch 5/32\n",
            "404/404 [==============================] - 0s 164us/step - loss: 49.0559 - val_loss: 46.9688\n",
            "Epoch 6/32\n",
            "404/404 [==============================] - 0s 162us/step - loss: 43.6892 - val_loss: 33.0174\n",
            "Epoch 7/32\n",
            "404/404 [==============================] - 0s 148us/step - loss: 47.0792 - val_loss: 54.1364\n",
            "Epoch 8/32\n",
            "404/404 [==============================] - 0s 153us/step - loss: 50.8361 - val_loss: 36.3195\n",
            "Epoch 9/32\n",
            "404/404 [==============================] - 0s 149us/step - loss: 40.6915 - val_loss: 29.8989\n",
            "Epoch 10/32\n",
            "404/404 [==============================] - 0s 148us/step - loss: 41.4807 - val_loss: 29.3190\n",
            "Epoch 11/32\n",
            "404/404 [==============================] - 0s 147us/step - loss: 51.2407 - val_loss: 40.1875\n",
            "Epoch 12/32\n",
            "404/404 [==============================] - 0s 147us/step - loss: 43.2374 - val_loss: 25.4212\n",
            "Epoch 13/32\n",
            "404/404 [==============================] - 0s 157us/step - loss: 43.1908 - val_loss: 29.2680\n",
            "Epoch 14/32\n",
            "404/404 [==============================] - 0s 158us/step - loss: 40.5124 - val_loss: 42.9114\n",
            "Epoch 15/32\n",
            "404/404 [==============================] - 0s 155us/step - loss: 40.9336 - val_loss: 30.4762\n",
            "Epoch 16/32\n",
            "404/404 [==============================] - 0s 150us/step - loss: 40.8193 - val_loss: 40.7844\n",
            "Epoch 17/32\n",
            "404/404 [==============================] - 0s 148us/step - loss: 39.6089 - val_loss: 34.6116\n",
            "Epoch 18/32\n",
            "404/404 [==============================] - 0s 151us/step - loss: 36.4934 - val_loss: 32.2122\n",
            "Epoch 19/32\n",
            "404/404 [==============================] - 0s 161us/step - loss: 34.1179 - val_loss: 34.0444\n",
            "Epoch 20/32\n",
            "404/404 [==============================] - 0s 163us/step - loss: 44.7315 - val_loss: 37.7222\n",
            "Epoch 21/32\n",
            "404/404 [==============================] - 0s 148us/step - loss: 41.5464 - val_loss: 30.2206\n",
            "Epoch 22/32\n",
            "404/404 [==============================] - 0s 152us/step - loss: 37.8592 - val_loss: 25.6582\n",
            "Epoch 23/32\n",
            "404/404 [==============================] - 0s 151us/step - loss: 38.6414 - val_loss: 35.0077\n",
            "Epoch 24/32\n",
            "404/404 [==============================] - 0s 150us/step - loss: 33.2319 - val_loss: 33.7788\n",
            "Epoch 25/32\n",
            "404/404 [==============================] - 0s 152us/step - loss: 40.1589 - val_loss: 35.2011\n",
            "Epoch 26/32\n",
            "404/404 [==============================] - 0s 148us/step - loss: 38.2410 - val_loss: 34.2764\n",
            "Epoch 27/32\n",
            "404/404 [==============================] - 0s 150us/step - loss: 43.7212 - val_loss: 53.3516\n",
            "Epoch 28/32\n",
            "404/404 [==============================] - 0s 154us/step - loss: 36.5388 - val_loss: 39.6444\n",
            "Epoch 29/32\n",
            "404/404 [==============================] - 0s 167us/step - loss: 45.9783 - val_loss: 34.5063\n",
            "Epoch 30/32\n",
            "404/404 [==============================] - 0s 155us/step - loss: 35.7326 - val_loss: 35.4458\n",
            "Epoch 31/32\n",
            "404/404 [==============================] - 0s 148us/step - loss: 35.9988 - val_loss: 28.6569\n",
            "Epoch 32/32\n",
            "404/404 [==============================] - 0s 150us/step - loss: 34.5900 - val_loss: 56.5418\n"
          ],
          "name": "stdout"
        },
        {
          "output_type": "execute_result",
          "data": {
            "text/plain": [
              "<keras.callbacks.History at 0x7f61e52a7128>"
            ]
          },
          "metadata": {
            "tags": []
          },
          "execution_count": 12
        }
      ]
    },
    {
      "cell_type": "code",
      "metadata": {
        "id": "-XDyDcqCQLt4",
        "outputId": "a57a7677-e1fa-43bf-9e2f-d177804d8617"
      },
      "source": [
        "X_valid[42]"
      ],
      "execution_count": null,
      "outputs": [
        {
          "output_type": "execute_result",
          "data": {
            "text/plain": [
              "array([  9.32909,   0.     ,  18.1    ,   0.     ,   0.713  ,   6.185  ,\n",
              "        98.7    ,   2.2616 ,  24.     , 666.     ,  20.2    , 396.9    ,\n",
              "        18.13   ])"
            ]
          },
          "metadata": {
            "tags": []
          },
          "execution_count": 14
        }
      ]
    },
    {
      "cell_type": "code",
      "metadata": {
        "id": "ad4AMLPBQLt5",
        "outputId": "522d09b9-5e9c-42f6-9224-505662df1a77"
      },
      "source": [
        "y_valid[42]"
      ],
      "execution_count": null,
      "outputs": [
        {
          "output_type": "execute_result",
          "data": {
            "text/plain": [
              "14.1"
            ]
          },
          "metadata": {
            "tags": []
          },
          "execution_count": 13
        }
      ]
    },
    {
      "cell_type": "code",
      "metadata": {
        "id": "idVNu41cQLt6",
        "outputId": "74c1d176-3363-4b9b-99e1-4ea0ebd87317"
      },
      "source": [
        "model.predict(np.reshape(X_valid[42], [1, 13]))"
      ],
      "execution_count": null,
      "outputs": [
        {
          "output_type": "execute_result",
          "data": {
            "text/plain": [
              "array([[20.880333]], dtype=float32)"
            ]
          },
          "metadata": {
            "tags": []
          },
          "execution_count": 17
        }
      ]
    },
    {
      "cell_type": "code",
      "metadata": {
        "id": "Hb9eCp4YQLt7"
      },
      "source": [
        ""
      ],
      "execution_count": null,
      "outputs": []
    }
  ]
}